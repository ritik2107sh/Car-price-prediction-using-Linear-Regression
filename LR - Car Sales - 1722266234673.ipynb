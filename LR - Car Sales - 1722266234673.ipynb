{
 "cells": [
  {
   "cell_type": "markdown",
   "id": "d886fe96",
   "metadata": {},
   "source": [
    "### import the packages"
   ]
  },
  {
   "cell_type": "code",
   "execution_count": 1,
   "id": "57f1aa82",
   "metadata": {},
   "outputs": [],
   "source": [
    "import numpy as np\n",
    "import pandas as pd\n",
    "import matplotlib.pyplot as plt\n",
    "import seaborn as sns\n",
    "%matplotlib inline\n",
    "import scipy.stats as stats"
   ]
  },
  {
   "cell_type": "code",
   "execution_count": 2,
   "id": "b38af2c2",
   "metadata": {},
   "outputs": [],
   "source": [
    "from sklearn.model_selection import train_test_split\n",
    "# import sklearn.model_selection.train_test_split as train_test_split\n",
    "\n",
    "import statsmodels.formula.api as smf\n",
    "from sklearn.metrics import r2_score, mean_squared_error, mean_absolute_error, mean_absolute_percentage_error\n",
    "\n",
    "from sklearn.linear_model import LinearRegression\n",
    "# sklearn - scikit learn"
   ]
  },
  {
   "cell_type": "markdown",
   "id": "e9fd8a10",
   "metadata": {},
   "source": [
    "### UDFs"
   ]
  },
  {
   "cell_type": "code",
   "execution_count": 3,
   "id": "1c73abc2",
   "metadata": {},
   "outputs": [],
   "source": [
    "def continuous_var_summary( x ):\n",
    "    \n",
    "    # freq and missings\n",
    "    n_total = x.shape[0]\n",
    "    n_miss = x.isna().sum()\n",
    "    perc_miss = n_miss * 100 / n_total\n",
    "    \n",
    "    # outliers - iqr\n",
    "    q1 = x.quantile(0.25)\n",
    "    q3 = x.quantile(0.75)\n",
    "    iqr = q3 - q1\n",
    "    lc_iqr = q1 - 1.5 * iqr\n",
    "    uc_iqr = q3 + 1.5 * iqr\n",
    "    \n",
    "    return pd.Series( [ x.dtype, x.nunique(), n_total, x.count(), n_miss, perc_miss,\n",
    "                       x.sum(), x.mean(), x.std(), x.var(), \n",
    "                       lc_iqr, uc_iqr, \n",
    "                       x.min(), x.quantile(0.01), x.quantile(0.05), x.quantile(0.10), \n",
    "                       x.quantile(0.25), x.quantile(0.5), x.quantile(0.75), \n",
    "                       x.quantile(0.90), x.quantile(0.95), x.quantile(0.99), x.max() ], \n",
    "                     \n",
    "                    index = ['dtype', 'cardinality', 'n_tot', 'n', 'nmiss', 'perc_miss',\n",
    "                             'sum', 'mean', 'std', 'var',\n",
    "                        'lc_iqr', 'uc_iqr',\n",
    "                        'min', 'p1', 'p5', 'p10', 'p25', 'p50', 'p75', 'p90', 'p95', 'p99', 'max']) "
   ]
  },
  {
   "cell_type": "markdown",
   "id": "4993df12",
   "metadata": {},
   "source": [
    "### data import"
   ]
  },
  {
   "cell_type": "code",
   "execution_count": 5,
   "id": "bb743bed",
   "metadata": {},
   "outputs": [],
   "source": [
    "cars = pd.read_csv(r\"Car_sales - 1721637749529.csv\")"
   ]
  },
  {
   "cell_type": "code",
   "execution_count": 6,
   "id": "3c6ef1fc",
   "metadata": {},
   "outputs": [
    {
     "name": "stdout",
     "output_type": "stream",
     "text": [
      "<class 'pandas.core.frame.DataFrame'>\n",
      "RangeIndex: 157 entries, 0 to 156\n",
      "Data columns (total 16 columns):\n",
      " #   Column                  Non-Null Count  Dtype  \n",
      "---  ------                  --------------  -----  \n",
      " 0   Manufacturer            157 non-null    object \n",
      " 1   Model                   157 non-null    object \n",
      " 2   Sales_in_thousands      157 non-null    float64\n",
      " 3   four_year_resale_value  121 non-null    float64\n",
      " 4   Vehicle_type            157 non-null    object \n",
      " 5   Price_in_thousands      155 non-null    float64\n",
      " 6   Engine_size             156 non-null    float64\n",
      " 7   Horsepower              156 non-null    float64\n",
      " 8   Wheelbase               156 non-null    float64\n",
      " 9   Width                   156 non-null    float64\n",
      " 10  Length                  156 non-null    float64\n",
      " 11  Curb_weight             155 non-null    float64\n",
      " 12  Fuel_capacity           156 non-null    float64\n",
      " 13  Fuel_efficiency         154 non-null    float64\n",
      " 14  Latest_Launch           157 non-null    object \n",
      " 15  Power_perf_factor       155 non-null    float64\n",
      "dtypes: float64(12), object(4)\n",
      "memory usage: 19.8+ KB\n"
     ]
    }
   ],
   "source": [
    "cars.info()"
   ]
  },
  {
   "cell_type": "code",
   "execution_count": 7,
   "id": "9d703de8",
   "metadata": {},
   "outputs": [
    {
     "data": {
      "text/html": [
       "<div>\n",
       "<style scoped>\n",
       "    .dataframe tbody tr th:only-of-type {\n",
       "        vertical-align: middle;\n",
       "    }\n",
       "\n",
       "    .dataframe tbody tr th {\n",
       "        vertical-align: top;\n",
       "    }\n",
       "\n",
       "    .dataframe thead th {\n",
       "        text-align: right;\n",
       "    }\n",
       "</style>\n",
       "<table border=\"1\" class=\"dataframe\">\n",
       "  <thead>\n",
       "    <tr style=\"text-align: right;\">\n",
       "      <th></th>\n",
       "      <th>Manufacturer</th>\n",
       "      <th>Model</th>\n",
       "      <th>Sales_in_thousands</th>\n",
       "      <th>four_year_resale_value</th>\n",
       "      <th>Vehicle_type</th>\n",
       "      <th>Price_in_thousands</th>\n",
       "      <th>Engine_size</th>\n",
       "      <th>Horsepower</th>\n",
       "      <th>Wheelbase</th>\n",
       "      <th>Width</th>\n",
       "      <th>Length</th>\n",
       "      <th>Curb_weight</th>\n",
       "      <th>Fuel_capacity</th>\n",
       "      <th>Fuel_efficiency</th>\n",
       "      <th>Latest_Launch</th>\n",
       "      <th>Power_perf_factor</th>\n",
       "    </tr>\n",
       "  </thead>\n",
       "  <tbody>\n",
       "    <tr>\n",
       "      <th>0</th>\n",
       "      <td>Acura</td>\n",
       "      <td>Integra</td>\n",
       "      <td>16.919</td>\n",
       "      <td>16.360</td>\n",
       "      <td>Passenger</td>\n",
       "      <td>21.50</td>\n",
       "      <td>1.8</td>\n",
       "      <td>140.0</td>\n",
       "      <td>101.2</td>\n",
       "      <td>67.3</td>\n",
       "      <td>172.4</td>\n",
       "      <td>2.639</td>\n",
       "      <td>13.2</td>\n",
       "      <td>28.0</td>\n",
       "      <td>2/2/2012</td>\n",
       "      <td>58.280150</td>\n",
       "    </tr>\n",
       "    <tr>\n",
       "      <th>1</th>\n",
       "      <td>Acura</td>\n",
       "      <td>TL</td>\n",
       "      <td>39.384</td>\n",
       "      <td>19.875</td>\n",
       "      <td>Passenger</td>\n",
       "      <td>28.40</td>\n",
       "      <td>3.2</td>\n",
       "      <td>225.0</td>\n",
       "      <td>108.1</td>\n",
       "      <td>70.3</td>\n",
       "      <td>192.9</td>\n",
       "      <td>3.517</td>\n",
       "      <td>17.2</td>\n",
       "      <td>25.0</td>\n",
       "      <td>6/3/2011</td>\n",
       "      <td>91.370778</td>\n",
       "    </tr>\n",
       "    <tr>\n",
       "      <th>2</th>\n",
       "      <td>Acura</td>\n",
       "      <td>CL</td>\n",
       "      <td>14.114</td>\n",
       "      <td>18.225</td>\n",
       "      <td>Passenger</td>\n",
       "      <td>NaN</td>\n",
       "      <td>3.2</td>\n",
       "      <td>225.0</td>\n",
       "      <td>106.9</td>\n",
       "      <td>70.6</td>\n",
       "      <td>192.0</td>\n",
       "      <td>3.470</td>\n",
       "      <td>17.2</td>\n",
       "      <td>26.0</td>\n",
       "      <td>1/4/2012</td>\n",
       "      <td>NaN</td>\n",
       "    </tr>\n",
       "    <tr>\n",
       "      <th>3</th>\n",
       "      <td>Acura</td>\n",
       "      <td>RL</td>\n",
       "      <td>8.588</td>\n",
       "      <td>29.725</td>\n",
       "      <td>Passenger</td>\n",
       "      <td>42.00</td>\n",
       "      <td>3.5</td>\n",
       "      <td>210.0</td>\n",
       "      <td>114.6</td>\n",
       "      <td>71.4</td>\n",
       "      <td>196.6</td>\n",
       "      <td>3.850</td>\n",
       "      <td>18.0</td>\n",
       "      <td>22.0</td>\n",
       "      <td>3/10/2011</td>\n",
       "      <td>91.389779</td>\n",
       "    </tr>\n",
       "    <tr>\n",
       "      <th>4</th>\n",
       "      <td>Audi</td>\n",
       "      <td>A4</td>\n",
       "      <td>20.397</td>\n",
       "      <td>22.255</td>\n",
       "      <td>Passenger</td>\n",
       "      <td>23.99</td>\n",
       "      <td>1.8</td>\n",
       "      <td>150.0</td>\n",
       "      <td>102.6</td>\n",
       "      <td>68.2</td>\n",
       "      <td>178.0</td>\n",
       "      <td>2.998</td>\n",
       "      <td>16.4</td>\n",
       "      <td>27.0</td>\n",
       "      <td>10/8/2011</td>\n",
       "      <td>62.777639</td>\n",
       "    </tr>\n",
       "  </tbody>\n",
       "</table>\n",
       "</div>"
      ],
      "text/plain": [
       "  Manufacturer    Model  Sales_in_thousands  four_year_resale_value  \\\n",
       "0        Acura  Integra              16.919                  16.360   \n",
       "1        Acura       TL              39.384                  19.875   \n",
       "2        Acura       CL              14.114                  18.225   \n",
       "3        Acura       RL               8.588                  29.725   \n",
       "4         Audi       A4              20.397                  22.255   \n",
       "\n",
       "  Vehicle_type  Price_in_thousands  Engine_size  Horsepower  Wheelbase  Width  \\\n",
       "0    Passenger               21.50          1.8       140.0      101.2   67.3   \n",
       "1    Passenger               28.40          3.2       225.0      108.1   70.3   \n",
       "2    Passenger                 NaN          3.2       225.0      106.9   70.6   \n",
       "3    Passenger               42.00          3.5       210.0      114.6   71.4   \n",
       "4    Passenger               23.99          1.8       150.0      102.6   68.2   \n",
       "\n",
       "   Length  Curb_weight  Fuel_capacity  Fuel_efficiency Latest_Launch  \\\n",
       "0   172.4        2.639           13.2             28.0      2/2/2012   \n",
       "1   192.9        3.517           17.2             25.0      6/3/2011   \n",
       "2   192.0        3.470           17.2             26.0      1/4/2012   \n",
       "3   196.6        3.850           18.0             22.0     3/10/2011   \n",
       "4   178.0        2.998           16.4             27.0     10/8/2011   \n",
       "\n",
       "   Power_perf_factor  \n",
       "0          58.280150  \n",
       "1          91.370778  \n",
       "2                NaN  \n",
       "3          91.389779  \n",
       "4          62.777639  "
      ]
     },
     "execution_count": 7,
     "metadata": {},
     "output_type": "execute_result"
    }
   ],
   "source": [
    "cars.head()"
   ]
  },
  {
   "cell_type": "code",
   "execution_count": 8,
   "id": "b43ac78c",
   "metadata": {},
   "outputs": [
    {
     "data": {
      "text/plain": [
       "Manufacturer               30\n",
       "Model                     156\n",
       "Sales_in_thousands        157\n",
       "four_year_resale_value    117\n",
       "Vehicle_type                2\n",
       "Price_in_thousands        152\n",
       "Engine_size                31\n",
       "Horsepower                 66\n",
       "Wheelbase                  88\n",
       "Width                      78\n",
       "Length                    127\n",
       "Curb_weight               147\n",
       "Fuel_capacity              55\n",
       "Fuel_efficiency            20\n",
       "Latest_Launch             130\n",
       "Power_perf_factor         154\n",
       "dtype: int64"
      ]
     },
     "execution_count": 8,
     "metadata": {},
     "output_type": "execute_result"
    }
   ],
   "source": [
    "cars.nunique()"
   ]
  },
  {
   "cell_type": "markdown",
   "id": "fc18a537",
   "metadata": {},
   "source": [
    "#### separate the categorical vs continuous variables"
   ]
  },
  {
   "cell_type": "code",
   "execution_count": 9,
   "id": "faad47bc",
   "metadata": {},
   "outputs": [],
   "source": [
    "# creating a copy of the data\n",
    "cars_continuous = cars.select_dtypes('float64')\n",
    "cars_categorical = cars.select_dtypes('object')\n",
    "\n",
    "# creating the variables with column names\n",
    "cars_cat_variables = cars.select_dtypes('object').columns\n",
    "cars_conti_variables = cars.select_dtypes('float64').columns"
   ]
  },
  {
   "cell_type": "markdown",
   "id": "ca10b3fe",
   "metadata": {},
   "source": [
    "### data summary"
   ]
  },
  {
   "cell_type": "code",
   "execution_count": 10,
   "id": "39c11f03",
   "metadata": {},
   "outputs": [
    {
     "data": {
      "text/html": [
       "<div>\n",
       "<style scoped>\n",
       "    .dataframe tbody tr th:only-of-type {\n",
       "        vertical-align: middle;\n",
       "    }\n",
       "\n",
       "    .dataframe tbody tr th {\n",
       "        vertical-align: top;\n",
       "    }\n",
       "\n",
       "    .dataframe thead th {\n",
       "        text-align: right;\n",
       "    }\n",
       "</style>\n",
       "<table border=\"1\" class=\"dataframe\">\n",
       "  <thead>\n",
       "    <tr style=\"text-align: right;\">\n",
       "      <th></th>\n",
       "      <th>Sales_in_thousands</th>\n",
       "      <th>four_year_resale_value</th>\n",
       "      <th>Price_in_thousands</th>\n",
       "      <th>Engine_size</th>\n",
       "      <th>Horsepower</th>\n",
       "      <th>Wheelbase</th>\n",
       "      <th>Width</th>\n",
       "      <th>Length</th>\n",
       "      <th>Curb_weight</th>\n",
       "      <th>Fuel_capacity</th>\n",
       "      <th>Fuel_efficiency</th>\n",
       "      <th>Power_perf_factor</th>\n",
       "    </tr>\n",
       "  </thead>\n",
       "  <tbody>\n",
       "    <tr>\n",
       "      <th>dtype</th>\n",
       "      <td>float64</td>\n",
       "      <td>float64</td>\n",
       "      <td>float64</td>\n",
       "      <td>float64</td>\n",
       "      <td>float64</td>\n",
       "      <td>float64</td>\n",
       "      <td>float64</td>\n",
       "      <td>float64</td>\n",
       "      <td>float64</td>\n",
       "      <td>float64</td>\n",
       "      <td>float64</td>\n",
       "      <td>float64</td>\n",
       "    </tr>\n",
       "    <tr>\n",
       "      <th>cardinality</th>\n",
       "      <td>157</td>\n",
       "      <td>117</td>\n",
       "      <td>152</td>\n",
       "      <td>31</td>\n",
       "      <td>66</td>\n",
       "      <td>88</td>\n",
       "      <td>78</td>\n",
       "      <td>127</td>\n",
       "      <td>147</td>\n",
       "      <td>55</td>\n",
       "      <td>20</td>\n",
       "      <td>154</td>\n",
       "    </tr>\n",
       "    <tr>\n",
       "      <th>n_tot</th>\n",
       "      <td>157</td>\n",
       "      <td>157</td>\n",
       "      <td>157</td>\n",
       "      <td>157</td>\n",
       "      <td>157</td>\n",
       "      <td>157</td>\n",
       "      <td>157</td>\n",
       "      <td>157</td>\n",
       "      <td>157</td>\n",
       "      <td>157</td>\n",
       "      <td>157</td>\n",
       "      <td>157</td>\n",
       "    </tr>\n",
       "    <tr>\n",
       "      <th>n</th>\n",
       "      <td>157</td>\n",
       "      <td>121</td>\n",
       "      <td>155</td>\n",
       "      <td>156</td>\n",
       "      <td>156</td>\n",
       "      <td>156</td>\n",
       "      <td>156</td>\n",
       "      <td>156</td>\n",
       "      <td>155</td>\n",
       "      <td>156</td>\n",
       "      <td>154</td>\n",
       "      <td>155</td>\n",
       "    </tr>\n",
       "    <tr>\n",
       "      <th>nmiss</th>\n",
       "      <td>0</td>\n",
       "      <td>36</td>\n",
       "      <td>2</td>\n",
       "      <td>1</td>\n",
       "      <td>1</td>\n",
       "      <td>1</td>\n",
       "      <td>1</td>\n",
       "      <td>1</td>\n",
       "      <td>2</td>\n",
       "      <td>1</td>\n",
       "      <td>3</td>\n",
       "      <td>2</td>\n",
       "    </tr>\n",
       "    <tr>\n",
       "      <th>perc_miss</th>\n",
       "      <td>0.0</td>\n",
       "      <td>22.929936</td>\n",
       "      <td>1.273885</td>\n",
       "      <td>0.636943</td>\n",
       "      <td>0.636943</td>\n",
       "      <td>0.636943</td>\n",
       "      <td>0.636943</td>\n",
       "      <td>0.636943</td>\n",
       "      <td>1.273885</td>\n",
       "      <td>0.636943</td>\n",
       "      <td>1.910828</td>\n",
       "      <td>1.273885</td>\n",
       "    </tr>\n",
       "    <tr>\n",
       "      <th>sum</th>\n",
       "      <td>8320.698</td>\n",
       "      <td>2186.83</td>\n",
       "      <td>4245.567</td>\n",
       "      <td>477.5</td>\n",
       "      <td>29008.0</td>\n",
       "      <td>16768.0</td>\n",
       "      <td>11099.4</td>\n",
       "      <td>29225.6</td>\n",
       "      <td>523.594</td>\n",
       "      <td>2800.5</td>\n",
       "      <td>3672.0</td>\n",
       "      <td>11941.756636</td>\n",
       "    </tr>\n",
       "    <tr>\n",
       "      <th>mean</th>\n",
       "      <td>52.998076</td>\n",
       "      <td>18.072975</td>\n",
       "      <td>27.390755</td>\n",
       "      <td>3.060897</td>\n",
       "      <td>185.948718</td>\n",
       "      <td>107.487179</td>\n",
       "      <td>71.15</td>\n",
       "      <td>187.34359</td>\n",
       "      <td>3.378026</td>\n",
       "      <td>17.951923</td>\n",
       "      <td>23.844156</td>\n",
       "      <td>77.043591</td>\n",
       "    </tr>\n",
       "    <tr>\n",
       "      <th>std</th>\n",
       "      <td>68.029422</td>\n",
       "      <td>11.453384</td>\n",
       "      <td>14.351653</td>\n",
       "      <td>1.044653</td>\n",
       "      <td>56.700321</td>\n",
       "      <td>7.641303</td>\n",
       "      <td>3.451872</td>\n",
       "      <td>13.431754</td>\n",
       "      <td>0.630502</td>\n",
       "      <td>3.887921</td>\n",
       "      <td>4.282706</td>\n",
       "      <td>25.142664</td>\n",
       "    </tr>\n",
       "    <tr>\n",
       "      <th>var</th>\n",
       "      <td>4628.002257</td>\n",
       "      <td>131.180007</td>\n",
       "      <td>205.969949</td>\n",
       "      <td>1.0913</td>\n",
       "      <td>3214.926385</td>\n",
       "      <td>58.389512</td>\n",
       "      <td>11.915419</td>\n",
       "      <td>180.412023</td>\n",
       "      <td>0.397532</td>\n",
       "      <td>15.115932</td>\n",
       "      <td>18.341567</td>\n",
       "      <td>632.153558</td>\n",
       "    </tr>\n",
       "    <tr>\n",
       "      <th>lc_iqr</th>\n",
       "      <td>-66.649</td>\n",
       "      <td>-1.6625</td>\n",
       "      <td>-2.8775</td>\n",
       "      <td>0.3875</td>\n",
       "      <td>51.25</td>\n",
       "      <td>89.2</td>\n",
       "      <td>60.8625</td>\n",
       "      <td>149.75</td>\n",
       "      <td>1.72825</td>\n",
       "      <td>10.1375</td>\n",
       "      <td>13.5</td>\n",
       "      <td>16.896951</td>\n",
       "    </tr>\n",
       "    <tr>\n",
       "      <th>uc_iqr</th>\n",
       "      <td>148.719</td>\n",
       "      <td>32.7975</td>\n",
       "      <td>52.8425</td>\n",
       "      <td>5.4875</td>\n",
       "      <td>313.25</td>\n",
       "      <td>126.0</td>\n",
       "      <td>80.9625</td>\n",
       "      <td>223.95</td>\n",
       "      <td>5.04225</td>\n",
       "      <td>25.2375</td>\n",
       "      <td>33.5</td>\n",
       "      <td>132.925634</td>\n",
       "    </tr>\n",
       "    <tr>\n",
       "      <th>min</th>\n",
       "      <td>0.11</td>\n",
       "      <td>5.16</td>\n",
       "      <td>9.235</td>\n",
       "      <td>1.0</td>\n",
       "      <td>55.0</td>\n",
       "      <td>92.6</td>\n",
       "      <td>62.6</td>\n",
       "      <td>149.4</td>\n",
       "      <td>1.895</td>\n",
       "      <td>10.3</td>\n",
       "      <td>15.0</td>\n",
       "      <td>23.276272</td>\n",
       "    </tr>\n",
       "    <tr>\n",
       "      <th>p1</th>\n",
       "      <td>0.93728</td>\n",
       "      <td>6.173</td>\n",
       "      <td>10.23144</td>\n",
       "      <td>1.555</td>\n",
       "      <td>96.4</td>\n",
       "      <td>92.875</td>\n",
       "      <td>66.085</td>\n",
       "      <td>154.915</td>\n",
       "      <td>2.2454</td>\n",
       "      <td>11.9</td>\n",
       "      <td>15.0</td>\n",
       "      <td>38.46192</td>\n",
       "    </tr>\n",
       "    <tr>\n",
       "      <th>p5</th>\n",
       "      <td>1.8708</td>\n",
       "      <td>7.85</td>\n",
       "      <td>12.469</td>\n",
       "      <td>1.8</td>\n",
       "      <td>114.5</td>\n",
       "      <td>95.875</td>\n",
       "      <td>66.5</td>\n",
       "      <td>163.675</td>\n",
       "      <td>2.4235</td>\n",
       "      <td>12.5</td>\n",
       "      <td>16.65</td>\n",
       "      <td>46.203997</td>\n",
       "    </tr>\n",
       "    <tr>\n",
       "      <th>p10</th>\n",
       "      <td>5.4536</td>\n",
       "      <td>9.125</td>\n",
       "      <td>13.9708</td>\n",
       "      <td>1.95</td>\n",
       "      <td>120.0</td>\n",
       "      <td>98.65</td>\n",
       "      <td>66.9</td>\n",
       "      <td>173.0</td>\n",
       "      <td>2.6062</td>\n",
       "      <td>13.2</td>\n",
       "      <td>18.3</td>\n",
       "      <td>48.447741</td>\n",
       "    </tr>\n",
       "    <tr>\n",
       "      <th>p25</th>\n",
       "      <td>14.114</td>\n",
       "      <td>11.26</td>\n",
       "      <td>18.0175</td>\n",
       "      <td>2.3</td>\n",
       "      <td>149.5</td>\n",
       "      <td>103.0</td>\n",
       "      <td>68.4</td>\n",
       "      <td>177.575</td>\n",
       "      <td>2.971</td>\n",
       "      <td>15.8</td>\n",
       "      <td>21.0</td>\n",
       "      <td>60.407707</td>\n",
       "    </tr>\n",
       "    <tr>\n",
       "      <th>p50</th>\n",
       "      <td>29.45</td>\n",
       "      <td>14.18</td>\n",
       "      <td>22.799</td>\n",
       "      <td>3.0</td>\n",
       "      <td>177.5</td>\n",
       "      <td>107.0</td>\n",
       "      <td>70.55</td>\n",
       "      <td>187.9</td>\n",
       "      <td>3.342</td>\n",
       "      <td>17.2</td>\n",
       "      <td>24.0</td>\n",
       "      <td>72.030917</td>\n",
       "    </tr>\n",
       "    <tr>\n",
       "      <th>p75</th>\n",
       "      <td>67.956</td>\n",
       "      <td>19.875</td>\n",
       "      <td>31.9475</td>\n",
       "      <td>3.575</td>\n",
       "      <td>215.0</td>\n",
       "      <td>112.2</td>\n",
       "      <td>73.425</td>\n",
       "      <td>196.125</td>\n",
       "      <td>3.7995</td>\n",
       "      <td>19.575</td>\n",
       "      <td>26.0</td>\n",
       "      <td>89.414878</td>\n",
       "    </tr>\n",
       "    <tr>\n",
       "      <th>p90</th>\n",
       "      <td>127.6416</td>\n",
       "      <td>32.075</td>\n",
       "      <td>44.017</td>\n",
       "      <td>4.6</td>\n",
       "      <td>254.0</td>\n",
       "      <td>115.5</td>\n",
       "      <td>76.2</td>\n",
       "      <td>203.4</td>\n",
       "      <td>4.1186</td>\n",
       "      <td>23.2</td>\n",
       "      <td>28.7</td>\n",
       "      <td>108.499252</td>\n",
       "    </tr>\n",
       "    <tr>\n",
       "      <th>p95</th>\n",
       "      <td>185.3362</td>\n",
       "      <td>41.25</td>\n",
       "      <td>55.835</td>\n",
       "      <td>4.775</td>\n",
       "      <td>300.0</td>\n",
       "      <td>119.25</td>\n",
       "      <td>78.2</td>\n",
       "      <td>208.5</td>\n",
       "      <td>4.3891</td>\n",
       "      <td>25.4</td>\n",
       "      <td>31.0</td>\n",
       "      <td>125.091513</td>\n",
       "    </tr>\n",
       "    <tr>\n",
       "      <th>p99</th>\n",
       "      <td>260.64532</td>\n",
       "      <td>60.22</td>\n",
       "      <td>78.4798</td>\n",
       "      <td>5.7</td>\n",
       "      <td>325.75</td>\n",
       "      <td>134.375</td>\n",
       "      <td>79.19</td>\n",
       "      <td>219.305</td>\n",
       "      <td>5.39668</td>\n",
       "      <td>30.9</td>\n",
       "      <td>33.0</td>\n",
       "      <td>141.119461</td>\n",
       "    </tr>\n",
       "    <tr>\n",
       "      <th>max</th>\n",
       "      <td>540.561</td>\n",
       "      <td>67.55</td>\n",
       "      <td>85.5</td>\n",
       "      <td>8.0</td>\n",
       "      <td>450.0</td>\n",
       "      <td>138.7</td>\n",
       "      <td>79.9</td>\n",
       "      <td>224.5</td>\n",
       "      <td>5.572</td>\n",
       "      <td>32.0</td>\n",
       "      <td>45.0</td>\n",
       "      <td>188.144323</td>\n",
       "    </tr>\n",
       "  </tbody>\n",
       "</table>\n",
       "</div>"
      ],
      "text/plain": [
       "            Sales_in_thousands four_year_resale_value Price_in_thousands  \\\n",
       "dtype                  float64                float64            float64   \n",
       "cardinality                157                    117                152   \n",
       "n_tot                      157                    157                157   \n",
       "n                          157                    121                155   \n",
       "nmiss                        0                     36                  2   \n",
       "perc_miss                  0.0              22.929936           1.273885   \n",
       "sum                   8320.698                2186.83           4245.567   \n",
       "mean                 52.998076              18.072975          27.390755   \n",
       "std                  68.029422              11.453384          14.351653   \n",
       "var                4628.002257             131.180007         205.969949   \n",
       "lc_iqr                 -66.649                -1.6625            -2.8775   \n",
       "uc_iqr                 148.719                32.7975            52.8425   \n",
       "min                       0.11                   5.16              9.235   \n",
       "p1                     0.93728                  6.173           10.23144   \n",
       "p5                      1.8708                   7.85             12.469   \n",
       "p10                     5.4536                  9.125            13.9708   \n",
       "p25                     14.114                  11.26            18.0175   \n",
       "p50                      29.45                  14.18             22.799   \n",
       "p75                     67.956                 19.875            31.9475   \n",
       "p90                   127.6416                 32.075             44.017   \n",
       "p95                   185.3362                  41.25             55.835   \n",
       "p99                  260.64532                  60.22            78.4798   \n",
       "max                    540.561                  67.55               85.5   \n",
       "\n",
       "            Engine_size   Horsepower   Wheelbase      Width      Length  \\\n",
       "dtype           float64      float64     float64    float64     float64   \n",
       "cardinality          31           66          88         78         127   \n",
       "n_tot               157          157         157        157         157   \n",
       "n                   156          156         156        156         156   \n",
       "nmiss                 1            1           1          1           1   \n",
       "perc_miss      0.636943     0.636943    0.636943   0.636943    0.636943   \n",
       "sum               477.5      29008.0     16768.0    11099.4     29225.6   \n",
       "mean           3.060897   185.948718  107.487179      71.15   187.34359   \n",
       "std            1.044653    56.700321    7.641303   3.451872   13.431754   \n",
       "var              1.0913  3214.926385   58.389512  11.915419  180.412023   \n",
       "lc_iqr           0.3875        51.25        89.2    60.8625      149.75   \n",
       "uc_iqr           5.4875       313.25       126.0    80.9625      223.95   \n",
       "min                 1.0         55.0        92.6       62.6       149.4   \n",
       "p1                1.555         96.4      92.875     66.085     154.915   \n",
       "p5                  1.8        114.5      95.875       66.5     163.675   \n",
       "p10                1.95        120.0       98.65       66.9       173.0   \n",
       "p25                 2.3        149.5       103.0       68.4     177.575   \n",
       "p50                 3.0        177.5       107.0      70.55       187.9   \n",
       "p75               3.575        215.0       112.2     73.425     196.125   \n",
       "p90                 4.6        254.0       115.5       76.2       203.4   \n",
       "p95               4.775        300.0      119.25       78.2       208.5   \n",
       "p99                 5.7       325.75     134.375      79.19     219.305   \n",
       "max                 8.0        450.0       138.7       79.9       224.5   \n",
       "\n",
       "            Curb_weight Fuel_capacity Fuel_efficiency Power_perf_factor  \n",
       "dtype           float64       float64         float64           float64  \n",
       "cardinality         147            55              20               154  \n",
       "n_tot               157           157             157               157  \n",
       "n                   155           156             154               155  \n",
       "nmiss                 2             1               3                 2  \n",
       "perc_miss      1.273885      0.636943        1.910828          1.273885  \n",
       "sum             523.594        2800.5          3672.0      11941.756636  \n",
       "mean           3.378026     17.951923       23.844156         77.043591  \n",
       "std            0.630502      3.887921        4.282706         25.142664  \n",
       "var            0.397532     15.115932       18.341567        632.153558  \n",
       "lc_iqr          1.72825       10.1375            13.5         16.896951  \n",
       "uc_iqr          5.04225       25.2375            33.5        132.925634  \n",
       "min               1.895          10.3            15.0         23.276272  \n",
       "p1               2.2454          11.9            15.0          38.46192  \n",
       "p5               2.4235          12.5           16.65         46.203997  \n",
       "p10              2.6062          13.2            18.3         48.447741  \n",
       "p25               2.971          15.8            21.0         60.407707  \n",
       "p50               3.342          17.2            24.0         72.030917  \n",
       "p75              3.7995        19.575            26.0         89.414878  \n",
       "p90              4.1186          23.2            28.7        108.499252  \n",
       "p95              4.3891          25.4            31.0        125.091513  \n",
       "p99             5.39668          30.9            33.0        141.119461  \n",
       "max               5.572          32.0            45.0        188.144323  "
      ]
     },
     "execution_count": 10,
     "metadata": {},
     "output_type": "execute_result"
    }
   ],
   "source": [
    "cars_continuous.apply(continuous_var_summary)\n",
    "# cars.loc[:, cars_conti_variables ].apply(continuous_var_summary)"
   ]
  },
  {
   "cell_type": "markdown",
   "id": "852c6c03",
   "metadata": {},
   "source": [
    "#### outlier treatment"
   ]
  },
  {
   "cell_type": "code",
   "execution_count": 11,
   "id": "76d39d3c",
   "metadata": {},
   "outputs": [],
   "source": [
    "cars_continuous = cars_continuous.apply( lambda x: x.clip( lower = x.quantile(0.01), upper = x.quantile(0.99) ) )"
   ]
  },
  {
   "cell_type": "markdown",
   "id": "0fd14e6d",
   "metadata": {},
   "source": [
    "#### missing value treatment"
   ]
  },
  {
   "cell_type": "code",
   "execution_count": 12,
   "id": "44cd6552",
   "metadata": {},
   "outputs": [],
   "source": [
    "cars_continuous = cars_continuous.apply( lambda x: x.fillna( x.mean() ) )"
   ]
  },
  {
   "cell_type": "markdown",
   "id": "5337a2dc",
   "metadata": {},
   "source": [
    "#### summary"
   ]
  },
  {
   "cell_type": "code",
   "execution_count": 13,
   "id": "f43e199b",
   "metadata": {},
   "outputs": [
    {
     "data": {
      "text/html": [
       "<div>\n",
       "<style scoped>\n",
       "    .dataframe tbody tr th:only-of-type {\n",
       "        vertical-align: middle;\n",
       "    }\n",
       "\n",
       "    .dataframe tbody tr th {\n",
       "        vertical-align: top;\n",
       "    }\n",
       "\n",
       "    .dataframe thead th {\n",
       "        text-align: right;\n",
       "    }\n",
       "</style>\n",
       "<table border=\"1\" class=\"dataframe\">\n",
       "  <thead>\n",
       "    <tr style=\"text-align: right;\">\n",
       "      <th></th>\n",
       "      <th>Sales_in_thousands</th>\n",
       "      <th>four_year_resale_value</th>\n",
       "      <th>Price_in_thousands</th>\n",
       "      <th>Engine_size</th>\n",
       "      <th>Horsepower</th>\n",
       "      <th>Wheelbase</th>\n",
       "      <th>Width</th>\n",
       "      <th>Length</th>\n",
       "      <th>Curb_weight</th>\n",
       "      <th>Fuel_capacity</th>\n",
       "      <th>Fuel_efficiency</th>\n",
       "      <th>Power_perf_factor</th>\n",
       "    </tr>\n",
       "  </thead>\n",
       "  <tbody>\n",
       "    <tr>\n",
       "      <th>dtype</th>\n",
       "      <td>float64</td>\n",
       "      <td>float64</td>\n",
       "      <td>float64</td>\n",
       "      <td>float64</td>\n",
       "      <td>float64</td>\n",
       "      <td>float64</td>\n",
       "      <td>float64</td>\n",
       "      <td>float64</td>\n",
       "      <td>float64</td>\n",
       "      <td>float64</td>\n",
       "      <td>float64</td>\n",
       "      <td>float64</td>\n",
       "    </tr>\n",
       "    <tr>\n",
       "      <th>cardinality</th>\n",
       "      <td>155</td>\n",
       "      <td>116</td>\n",
       "      <td>151</td>\n",
       "      <td>30</td>\n",
       "      <td>65</td>\n",
       "      <td>88</td>\n",
       "      <td>77</td>\n",
       "      <td>126</td>\n",
       "      <td>146</td>\n",
       "      <td>55</td>\n",
       "      <td>20</td>\n",
       "      <td>153</td>\n",
       "    </tr>\n",
       "    <tr>\n",
       "      <th>n_tot</th>\n",
       "      <td>157</td>\n",
       "      <td>157</td>\n",
       "      <td>157</td>\n",
       "      <td>157</td>\n",
       "      <td>157</td>\n",
       "      <td>157</td>\n",
       "      <td>157</td>\n",
       "      <td>157</td>\n",
       "      <td>157</td>\n",
       "      <td>157</td>\n",
       "      <td>157</td>\n",
       "      <td>157</td>\n",
       "    </tr>\n",
       "    <tr>\n",
       "      <th>n</th>\n",
       "      <td>157</td>\n",
       "      <td>157</td>\n",
       "      <td>157</td>\n",
       "      <td>157</td>\n",
       "      <td>157</td>\n",
       "      <td>157</td>\n",
       "      <td>157</td>\n",
       "      <td>157</td>\n",
       "      <td>157</td>\n",
       "      <td>157</td>\n",
       "      <td>157</td>\n",
       "      <td>157</td>\n",
       "    </tr>\n",
       "    <tr>\n",
       "      <th>nmiss</th>\n",
       "      <td>0</td>\n",
       "      <td>0</td>\n",
       "      <td>0</td>\n",
       "      <td>0</td>\n",
       "      <td>0</td>\n",
       "      <td>0</td>\n",
       "      <td>0</td>\n",
       "      <td>0</td>\n",
       "      <td>0</td>\n",
       "      <td>0</td>\n",
       "      <td>0</td>\n",
       "      <td>0</td>\n",
       "    </tr>\n",
       "    <tr>\n",
       "      <th>perc_miss</th>\n",
       "      <td>0.0</td>\n",
       "      <td>0.0</td>\n",
       "      <td>0.0</td>\n",
       "      <td>0.0</td>\n",
       "      <td>0.0</td>\n",
       "      <td>0.0</td>\n",
       "      <td>0.0</td>\n",
       "      <td>0.0</td>\n",
       "      <td>0.0</td>\n",
       "      <td>0.0</td>\n",
       "      <td>0.0</td>\n",
       "      <td>0.0</td>\n",
       "    </tr>\n",
       "    <tr>\n",
       "      <th>sum</th>\n",
       "      <td>8025.5292</td>\n",
       "      <td>2829.141298</td>\n",
       "      <td>4290.61297</td>\n",
       "      <td>478.860064</td>\n",
       "      <td>29095.622436</td>\n",
       "      <td>16867.536538</td>\n",
       "      <td>11173.619551</td>\n",
       "      <td>29411.272949</td>\n",
       "      <td>530.528485</td>\n",
       "      <td>2817.848077</td>\n",
       "      <td>3731.298701</td>\n",
       "      <td>12065.384534</td>\n",
       "    </tr>\n",
       "    <tr>\n",
       "      <th>mean</th>\n",
       "      <td>51.11802</td>\n",
       "      <td>18.020008</td>\n",
       "      <td>27.328745</td>\n",
       "      <td>3.050064</td>\n",
       "      <td>185.322436</td>\n",
       "      <td>107.436538</td>\n",
       "      <td>71.169551</td>\n",
       "      <td>187.332949</td>\n",
       "      <td>3.379162</td>\n",
       "      <td>17.948077</td>\n",
       "      <td>23.766234</td>\n",
       "      <td>76.849583</td>\n",
       "    </tr>\n",
       "    <tr>\n",
       "      <th>std</th>\n",
       "      <td>57.722699</td>\n",
       "      <td>9.80668</td>\n",
       "      <td>13.973525</td>\n",
       "      <td>0.979125</td>\n",
       "      <td>52.646914</td>\n",
       "      <td>7.400461</td>\n",
       "      <td>3.379455</td>\n",
       "      <td>13.07823</td>\n",
       "      <td>0.617766</td>\n",
       "      <td>3.807591</td>\n",
       "      <td>3.956157</td>\n",
       "      <td>23.691622</td>\n",
       "    </tr>\n",
       "    <tr>\n",
       "      <th>var</th>\n",
       "      <td>3331.909938</td>\n",
       "      <td>96.170969</td>\n",
       "      <td>195.259402</td>\n",
       "      <td>0.958686</td>\n",
       "      <td>2771.697606</td>\n",
       "      <td>54.766822</td>\n",
       "      <td>11.420718</td>\n",
       "      <td>171.04011</td>\n",
       "      <td>0.381634</td>\n",
       "      <td>14.497753</td>\n",
       "      <td>15.651182</td>\n",
       "      <td>561.292961</td>\n",
       "    </tr>\n",
       "    <tr>\n",
       "      <th>lc_iqr</th>\n",
       "      <td>-66.649</td>\n",
       "      <td>4.1525</td>\n",
       "      <td>-2.5325</td>\n",
       "      <td>0.5</td>\n",
       "      <td>52.5</td>\n",
       "      <td>89.2</td>\n",
       "      <td>60.9</td>\n",
       "      <td>149.85</td>\n",
       "      <td>1.7705</td>\n",
       "      <td>10.25</td>\n",
       "      <td>13.5</td>\n",
       "      <td>17.715715</td>\n",
       "    </tr>\n",
       "    <tr>\n",
       "      <th>uc_iqr</th>\n",
       "      <td>148.719</td>\n",
       "      <td>26.5325</td>\n",
       "      <td>52.6075</td>\n",
       "      <td>5.3</td>\n",
       "      <td>312.5</td>\n",
       "      <td>126.0</td>\n",
       "      <td>80.9</td>\n",
       "      <td>223.85</td>\n",
       "      <td>4.9825</td>\n",
       "      <td>25.05</td>\n",
       "      <td>33.5</td>\n",
       "      <td>132.413666</td>\n",
       "    </tr>\n",
       "    <tr>\n",
       "      <th>min</th>\n",
       "      <td>0.93728</td>\n",
       "      <td>6.173</td>\n",
       "      <td>10.23144</td>\n",
       "      <td>1.555</td>\n",
       "      <td>96.4</td>\n",
       "      <td>92.875</td>\n",
       "      <td>66.085</td>\n",
       "      <td>154.915</td>\n",
       "      <td>2.2454</td>\n",
       "      <td>11.9</td>\n",
       "      <td>15.0</td>\n",
       "      <td>38.46192</td>\n",
       "    </tr>\n",
       "    <tr>\n",
       "      <th>p1</th>\n",
       "      <td>0.946643</td>\n",
       "      <td>6.87412</td>\n",
       "      <td>10.485434</td>\n",
       "      <td>1.5802</td>\n",
       "      <td>98.416</td>\n",
       "      <td>93.001</td>\n",
       "      <td>66.2614</td>\n",
       "      <td>156.2506</td>\n",
       "      <td>2.247976</td>\n",
       "      <td>11.9</td>\n",
       "      <td>15.0</td>\n",
       "      <td>39.315643</td>\n",
       "    </tr>\n",
       "    <tr>\n",
       "      <th>p5</th>\n",
       "      <td>1.8708</td>\n",
       "      <td>8.425</td>\n",
       "      <td>12.491</td>\n",
       "      <td>1.8</td>\n",
       "      <td>114.6</td>\n",
       "      <td>95.92</td>\n",
       "      <td>66.5</td>\n",
       "      <td>163.7</td>\n",
       "      <td>2.424</td>\n",
       "      <td>12.5</td>\n",
       "      <td>16.8</td>\n",
       "      <td>46.257114</td>\n",
       "    </tr>\n",
       "    <tr>\n",
       "      <th>p10</th>\n",
       "      <td>5.4536</td>\n",
       "      <td>9.71</td>\n",
       "      <td>13.9762</td>\n",
       "      <td>1.96</td>\n",
       "      <td>120.0</td>\n",
       "      <td>98.7</td>\n",
       "      <td>66.9</td>\n",
       "      <td>173.12</td>\n",
       "      <td>2.6128</td>\n",
       "      <td>13.2</td>\n",
       "      <td>18.6</td>\n",
       "      <td>48.522793</td>\n",
       "    </tr>\n",
       "    <tr>\n",
       "      <th>p25</th>\n",
       "      <td>14.114</td>\n",
       "      <td>12.545</td>\n",
       "      <td>18.145</td>\n",
       "      <td>2.3</td>\n",
       "      <td>150.0</td>\n",
       "      <td>103.0</td>\n",
       "      <td>68.4</td>\n",
       "      <td>177.6</td>\n",
       "      <td>2.975</td>\n",
       "      <td>15.8</td>\n",
       "      <td>21.0</td>\n",
       "      <td>60.727447</td>\n",
       "    </tr>\n",
       "    <tr>\n",
       "      <th>p50</th>\n",
       "      <td>29.45</td>\n",
       "      <td>17.71</td>\n",
       "      <td>23.4</td>\n",
       "      <td>3.0</td>\n",
       "      <td>180.0</td>\n",
       "      <td>107.0</td>\n",
       "      <td>70.6</td>\n",
       "      <td>187.8</td>\n",
       "      <td>3.368</td>\n",
       "      <td>17.2</td>\n",
       "      <td>24.0</td>\n",
       "      <td>72.290355</td>\n",
       "    </tr>\n",
       "    <tr>\n",
       "      <th>p75</th>\n",
       "      <td>67.956</td>\n",
       "      <td>18.14</td>\n",
       "      <td>31.93</td>\n",
       "      <td>3.5</td>\n",
       "      <td>215.0</td>\n",
       "      <td>112.2</td>\n",
       "      <td>73.4</td>\n",
       "      <td>196.1</td>\n",
       "      <td>3.778</td>\n",
       "      <td>19.5</td>\n",
       "      <td>26.0</td>\n",
       "      <td>89.401935</td>\n",
       "    </tr>\n",
       "    <tr>\n",
       "      <th>p90</th>\n",
       "      <td>127.6416</td>\n",
       "      <td>27.025</td>\n",
       "      <td>43.788</td>\n",
       "      <td>4.6</td>\n",
       "      <td>253.8</td>\n",
       "      <td>115.46</td>\n",
       "      <td>76.18</td>\n",
       "      <td>203.34</td>\n",
       "      <td>4.1174</td>\n",
       "      <td>23.2</td>\n",
       "      <td>28.4</td>\n",
       "      <td>107.99432</td>\n",
       "    </tr>\n",
       "    <tr>\n",
       "      <th>p95</th>\n",
       "      <td>185.3362</td>\n",
       "      <td>39.275</td>\n",
       "      <td>55.225</td>\n",
       "      <td>4.76</td>\n",
       "      <td>300.0</td>\n",
       "      <td>119.2</td>\n",
       "      <td>78.2</td>\n",
       "      <td>208.5</td>\n",
       "      <td>4.3884</td>\n",
       "      <td>25.4</td>\n",
       "      <td>31.0</td>\n",
       "      <td>125.065461</td>\n",
       "    </tr>\n",
       "    <tr>\n",
       "      <th>p99</th>\n",
       "      <td>253.560581</td>\n",
       "      <td>59.3128</td>\n",
       "      <td>76.514312</td>\n",
       "      <td>5.7</td>\n",
       "      <td>316.93</td>\n",
       "      <td>132.485</td>\n",
       "      <td>79.1396</td>\n",
       "      <td>217.0622</td>\n",
       "      <td>5.394619</td>\n",
       "      <td>30.396</td>\n",
       "      <td>33.0</td>\n",
       "      <td>141.109114</td>\n",
       "    </tr>\n",
       "    <tr>\n",
       "      <th>max</th>\n",
       "      <td>260.64532</td>\n",
       "      <td>60.22</td>\n",
       "      <td>78.4798</td>\n",
       "      <td>5.7</td>\n",
       "      <td>325.75</td>\n",
       "      <td>134.375</td>\n",
       "      <td>79.19</td>\n",
       "      <td>219.305</td>\n",
       "      <td>5.39668</td>\n",
       "      <td>30.9</td>\n",
       "      <td>33.0</td>\n",
       "      <td>141.119461</td>\n",
       "    </tr>\n",
       "  </tbody>\n",
       "</table>\n",
       "</div>"
      ],
      "text/plain": [
       "            Sales_in_thousands four_year_resale_value Price_in_thousands  \\\n",
       "dtype                  float64                float64            float64   \n",
       "cardinality                155                    116                151   \n",
       "n_tot                      157                    157                157   \n",
       "n                          157                    157                157   \n",
       "nmiss                        0                      0                  0   \n",
       "perc_miss                  0.0                    0.0                0.0   \n",
       "sum                  8025.5292            2829.141298         4290.61297   \n",
       "mean                  51.11802              18.020008          27.328745   \n",
       "std                  57.722699                9.80668          13.973525   \n",
       "var                3331.909938              96.170969         195.259402   \n",
       "lc_iqr                 -66.649                 4.1525            -2.5325   \n",
       "uc_iqr                 148.719                26.5325            52.6075   \n",
       "min                    0.93728                  6.173           10.23144   \n",
       "p1                    0.946643                6.87412          10.485434   \n",
       "p5                      1.8708                  8.425             12.491   \n",
       "p10                     5.4536                   9.71            13.9762   \n",
       "p25                     14.114                 12.545             18.145   \n",
       "p50                      29.45                  17.71               23.4   \n",
       "p75                     67.956                  18.14              31.93   \n",
       "p90                   127.6416                 27.025             43.788   \n",
       "p95                   185.3362                 39.275             55.225   \n",
       "p99                 253.560581                59.3128          76.514312   \n",
       "max                  260.64532                  60.22            78.4798   \n",
       "\n",
       "            Engine_size    Horsepower     Wheelbase         Width  \\\n",
       "dtype           float64       float64       float64       float64   \n",
       "cardinality          30            65            88            77   \n",
       "n_tot               157           157           157           157   \n",
       "n                   157           157           157           157   \n",
       "nmiss                 0             0             0             0   \n",
       "perc_miss           0.0           0.0           0.0           0.0   \n",
       "sum          478.860064  29095.622436  16867.536538  11173.619551   \n",
       "mean           3.050064    185.322436    107.436538     71.169551   \n",
       "std            0.979125     52.646914      7.400461      3.379455   \n",
       "var            0.958686   2771.697606     54.766822     11.420718   \n",
       "lc_iqr              0.5          52.5          89.2          60.9   \n",
       "uc_iqr              5.3         312.5         126.0          80.9   \n",
       "min               1.555          96.4        92.875        66.085   \n",
       "p1               1.5802        98.416        93.001       66.2614   \n",
       "p5                  1.8         114.6         95.92          66.5   \n",
       "p10                1.96         120.0          98.7          66.9   \n",
       "p25                 2.3         150.0         103.0          68.4   \n",
       "p50                 3.0         180.0         107.0          70.6   \n",
       "p75                 3.5         215.0         112.2          73.4   \n",
       "p90                 4.6         253.8        115.46         76.18   \n",
       "p95                4.76         300.0         119.2          78.2   \n",
       "p99                 5.7        316.93       132.485       79.1396   \n",
       "max                 5.7        325.75       134.375         79.19   \n",
       "\n",
       "                   Length Curb_weight Fuel_capacity Fuel_efficiency  \\\n",
       "dtype             float64     float64       float64         float64   \n",
       "cardinality           126         146            55              20   \n",
       "n_tot                 157         157           157             157   \n",
       "n                     157         157           157             157   \n",
       "nmiss                   0           0             0               0   \n",
       "perc_miss             0.0         0.0           0.0             0.0   \n",
       "sum          29411.272949  530.528485   2817.848077     3731.298701   \n",
       "mean           187.332949    3.379162     17.948077       23.766234   \n",
       "std              13.07823    0.617766      3.807591        3.956157   \n",
       "var             171.04011    0.381634     14.497753       15.651182   \n",
       "lc_iqr             149.85      1.7705         10.25            13.5   \n",
       "uc_iqr             223.85      4.9825         25.05            33.5   \n",
       "min               154.915      2.2454          11.9            15.0   \n",
       "p1               156.2506    2.247976          11.9            15.0   \n",
       "p5                  163.7       2.424          12.5            16.8   \n",
       "p10                173.12      2.6128          13.2            18.6   \n",
       "p25                 177.6       2.975          15.8            21.0   \n",
       "p50                 187.8       3.368          17.2            24.0   \n",
       "p75                 196.1       3.778          19.5            26.0   \n",
       "p90                203.34      4.1174          23.2            28.4   \n",
       "p95                 208.5      4.3884          25.4            31.0   \n",
       "p99              217.0622    5.394619        30.396            33.0   \n",
       "max               219.305     5.39668          30.9            33.0   \n",
       "\n",
       "            Power_perf_factor  \n",
       "dtype                 float64  \n",
       "cardinality               153  \n",
       "n_tot                     157  \n",
       "n                         157  \n",
       "nmiss                       0  \n",
       "perc_miss                 0.0  \n",
       "sum              12065.384534  \n",
       "mean                76.849583  \n",
       "std                 23.691622  \n",
       "var                561.292961  \n",
       "lc_iqr              17.715715  \n",
       "uc_iqr             132.413666  \n",
       "min                  38.46192  \n",
       "p1                  39.315643  \n",
       "p5                  46.257114  \n",
       "p10                 48.522793  \n",
       "p25                 60.727447  \n",
       "p50                 72.290355  \n",
       "p75                 89.401935  \n",
       "p90                 107.99432  \n",
       "p95                125.065461  \n",
       "p99                141.109114  \n",
       "max                141.119461  "
      ]
     },
     "execution_count": 13,
     "metadata": {},
     "output_type": "execute_result"
    }
   ],
   "source": [
    "cars_continuous.apply(continuous_var_summary)"
   ]
  },
  {
   "cell_type": "markdown",
   "id": "e9cd17ed",
   "metadata": {},
   "source": [
    "#### summary of categorical variables"
   ]
  },
  {
   "cell_type": "code",
   "execution_count": 14,
   "id": "60e01495",
   "metadata": {},
   "outputs": [
    {
     "data": {
      "text/html": [
       "<div>\n",
       "<style scoped>\n",
       "    .dataframe tbody tr th:only-of-type {\n",
       "        vertical-align: middle;\n",
       "    }\n",
       "\n",
       "    .dataframe tbody tr th {\n",
       "        vertical-align: top;\n",
       "    }\n",
       "\n",
       "    .dataframe thead th {\n",
       "        text-align: right;\n",
       "    }\n",
       "</style>\n",
       "<table border=\"1\" class=\"dataframe\">\n",
       "  <thead>\n",
       "    <tr style=\"text-align: right;\">\n",
       "      <th></th>\n",
       "      <th>count</th>\n",
       "      <th>unique</th>\n",
       "      <th>top</th>\n",
       "      <th>freq</th>\n",
       "    </tr>\n",
       "  </thead>\n",
       "  <tbody>\n",
       "    <tr>\n",
       "      <th>Manufacturer</th>\n",
       "      <td>157</td>\n",
       "      <td>30</td>\n",
       "      <td>Dodge</td>\n",
       "      <td>11</td>\n",
       "    </tr>\n",
       "    <tr>\n",
       "      <th>Model</th>\n",
       "      <td>157</td>\n",
       "      <td>156</td>\n",
       "      <td>Neon</td>\n",
       "      <td>2</td>\n",
       "    </tr>\n",
       "    <tr>\n",
       "      <th>Vehicle_type</th>\n",
       "      <td>157</td>\n",
       "      <td>2</td>\n",
       "      <td>Passenger</td>\n",
       "      <td>116</td>\n",
       "    </tr>\n",
       "    <tr>\n",
       "      <th>Latest_Launch</th>\n",
       "      <td>157</td>\n",
       "      <td>130</td>\n",
       "      <td>10/5/2012</td>\n",
       "      <td>2</td>\n",
       "    </tr>\n",
       "  </tbody>\n",
       "</table>\n",
       "</div>"
      ],
      "text/plain": [
       "              count unique        top freq\n",
       "Manufacturer    157     30      Dodge   11\n",
       "Model           157    156       Neon    2\n",
       "Vehicle_type    157      2  Passenger  116\n",
       "Latest_Launch   157    130  10/5/2012    2"
      ]
     },
     "execution_count": 14,
     "metadata": {},
     "output_type": "execute_result"
    }
   ],
   "source": [
    "cars_categorical.describe().T"
   ]
  },
  {
   "cell_type": "code",
   "execution_count": 15,
   "id": "e9488147",
   "metadata": {},
   "outputs": [],
   "source": [
    "cars_categorical = pd.get_dummies( cars_categorical.loc[:, ['Manufacturer', 'Vehicle_type']], drop_first = True )"
   ]
  },
  {
   "cell_type": "markdown",
   "id": "7d69b12b",
   "metadata": {},
   "source": [
    "### combine the cat and conti variables"
   ]
  },
  {
   "cell_type": "code",
   "execution_count": 16,
   "id": "c06cbad0",
   "metadata": {},
   "outputs": [],
   "source": [
    "cars_new = pd.concat([cars_categorical, cars_continuous], axis = 1 )"
   ]
  },
  {
   "cell_type": "code",
   "execution_count": 17,
   "id": "1eaa572d",
   "metadata": {},
   "outputs": [
    {
     "data": {
      "text/plain": [
       "(157, 42)"
      ]
     },
     "execution_count": 17,
     "metadata": {},
     "output_type": "execute_result"
    }
   ],
   "source": [
    "cars_new.shape"
   ]
  },
  {
   "cell_type": "markdown",
   "id": "c0fba63c",
   "metadata": {},
   "source": [
    "#### check assumptions"
   ]
  },
  {
   "cell_type": "code",
   "execution_count": 18,
   "id": "10a78e2b",
   "metadata": {},
   "outputs": [
    {
     "name": "stderr",
     "output_type": "stream",
     "text": [
      "C:\\Users\\ritik\\AppData\\Local\\Temp\\ipykernel_39648\\3773414379.py:5: UserWarning: \n",
      "\n",
      "`distplot` is a deprecated function and will be removed in seaborn v0.14.0.\n",
      "\n",
      "Please adapt your code to use either `displot` (a figure-level function with\n",
      "similar flexibility) or `histplot` (an axes-level function for histograms).\n",
      "\n",
      "For a guide to updating your code to use the new functions, please see\n",
      "https://gist.github.com/mwaskom/de44147ed2974457ad6372750bbe5751\n",
      "\n",
      "  sns.distplot(cars_new.Sales_in_thousands)\n"
     ]
    },
    {
     "data": {
      "image/png": "[encoded data removed]",
      "text/plain": [
       "<Figure size 640x480 with 1 Axes>"
      ]
     },
     "metadata": {},
     "output_type": "display_data"
    }
   ],
   "source": [
    "# Very first assumtion is that all the variables should be normally distributed, however that can't be possible\n",
    "# However we have to be atleast strict about the dependant Y variable\n",
    "\n",
    "# Distribution of variables\n",
    "sns.distplot(cars_new.Sales_in_thousands)\n",
    "plt.show()\n",
    "# this distribution is highly skewed\n",
    "\n",
    "# Notes:\n",
    "#-----------------------------------------------------\n",
    "# 1. if we get skewed data, then we have to transform the data and there are multiple methods to go about it\n",
    "# 2. most commonly used and which works on most of the data is log transformation\n",
    "# 3. Ideally we can do this for each of the dependant variable as well, \n",
    "#    however it will depend on amount of data and the amount of analytical rigour\n",
    "# 4. In no case we can proceed if dependant variable is not normal/near to normal distributed"
   ]
  },
  {
   "cell_type": "code",
   "execution_count": 19,
   "id": "5ce5437e",
   "metadata": {},
   "outputs": [
    {
     "data": {
      "text/plain": [
       "1.9924932920508793"
      ]
     },
     "execution_count": 19,
     "metadata": {},
     "output_type": "execute_result"
    }
   ],
   "source": [
    "cars_new.Sales_in_thousands.skew()"
   ]
  },
  {
   "cell_type": "code",
   "execution_count": 20,
   "id": "4d23b3d8",
   "metadata": {},
   "outputs": [
    {
     "name": "stderr",
     "output_type": "stream",
     "text": [
      "C:\\Users\\ritik\\AppData\\Local\\Temp\\ipykernel_39648\\1154164408.py:8: UserWarning: \n",
      "\n",
      "`distplot` is a deprecated function and will be removed in seaborn v0.14.0.\n",
      "\n",
      "Please adapt your code to use either `displot` (a figure-level function with\n",
      "similar flexibility) or `histplot` (an axes-level function for histograms).\n",
      "\n",
      "For a guide to updating your code to use the new functions, please see\n",
      "https://gist.github.com/mwaskom/de44147ed2974457ad6372750bbe5751\n",
      "\n",
      "  sns.distplot(cars_new.ln_sales_in_thousands)\n"
     ]
    },
    {
     "data": {
      "image/png": "[encoded data removed]",
      "text/plain": [
       "<Figure size 640x480 with 1 Axes>"
      ]
     },
     "metadata": {},
     "output_type": "display_data"
    }
   ],
   "source": [
    "# Note: good practice is to take the log of the data plus 1, bcoz we don't have log of zero defined\n",
    "# In thios data its not required as sales are always greater than zero\n",
    "\n",
    "# apply log transformation: log is rescalling the data and making the distribution normal\n",
    "cars_new.loc[:, 'ln_sales_in_thousands'] = np.log( cars_new.Sales_in_thousands )\n",
    "\n",
    "# Distribution of variables\n",
    "sns.distplot(cars_new.ln_sales_in_thousands)\n",
    "plt.show()"
   ]
  },
  {
   "cell_type": "code",
   "execution_count": 21,
   "id": "faf7fe5d",
   "metadata": {},
   "outputs": [
    {
     "data": {
      "text/plain": [
       "-0.5925861100519006"
      ]
     },
     "execution_count": 21,
     "metadata": {},
     "output_type": "execute_result"
    }
   ],
   "source": [
    "cars_new.ln_sales_in_thousands.skew()"
   ]
  },
  {
   "cell_type": "code",
   "execution_count": 22,
   "id": "4b9e7f31",
   "metadata": {},
   "outputs": [],
   "source": [
    "# rename the variable to follow INC rules\n",
    "cars_new.rename( columns = {'Manufacturer_Mercedes-B': 'Manufacturer_Mercedes_B'}, inplace = True )"
   ]
  },
  {
   "cell_type": "markdown",
   "id": "fb34a36c",
   "metadata": {},
   "source": [
    "### Variable selection"
   ]
  },
  {
   "cell_type": "raw",
   "id": "5c6c4f87",
   "metadata": {},
   "source": [
    "significant: F_Regression\n",
    "multicolinearity: VIF"
   ]
  },
  {
   "cell_type": "code",
   "execution_count": 23,
   "id": "747a8662",
   "metadata": {},
   "outputs": [
    {
     "data": {
      "image/png": "[encoded data removed]",
      "text/plain": [
       "<Figure size 1000x700 with 2 Axes>"
      ]
     },
     "metadata": {},
     "output_type": "display_data"
    }
   ],
   "source": [
    "plt.figure( figsize=(10, 7) )\n",
    "sns.heatmap( cars_new.corr() )\n",
    "plt.show()"
   ]
  },
  {
   "cell_type": "code",
   "execution_count": 24,
   "id": "e4f043d1",
   "metadata": {},
   "outputs": [],
   "source": [
    "# cars_new.corr().to_excel('D:/corr.xlsx')"
   ]
  },
  {
   "cell_type": "markdown",
   "id": "f25b54e9",
   "metadata": {},
   "source": [
    "#### significance"
   ]
  },
  {
   "cell_type": "code",
   "execution_count": 25,
   "id": "1da98aa5",
   "metadata": {},
   "outputs": [],
   "source": [
    "# Feature Selection based on importance\n",
    "from sklearn.feature_selection import f_regression"
   ]
  },
  {
   "cell_type": "code",
   "execution_count": 26,
   "id": "5ca48242",
   "metadata": {},
   "outputs": [],
   "source": [
    "X_vars = cars_new.columns.difference(['Sales_in_thousands', 'ln_sales_in_thousands'])"
   ]
  },
  {
   "cell_type": "code",
   "execution_count": 27,
   "id": "2584fd2a",
   "metadata": {},
   "outputs": [],
   "source": [
    "f_values, p_val = f_regression( cars_new.loc[:, X_vars], cars_new.ln_sales_in_thousands )"
   ]
  },
  {
   "cell_type": "code",
   "execution_count": 28,
   "id": "4119c363",
   "metadata": {},
   "outputs": [],
   "source": [
    "f_reg = pd.DataFrame([X_vars, f_values, p_val]).T"
   ]
  },
  {
   "cell_type": "code",
   "execution_count": 29,
   "id": "7b66cd20",
   "metadata": {},
   "outputs": [],
   "source": [
    "f_reg.columns = ['Featrues', 'F_Value', 'P_Value']"
   ]
  },
  {
   "cell_type": "code",
   "execution_count": 30,
   "id": "f9d29133",
   "metadata": {},
   "outputs": [],
   "source": [
    "features = list( f_reg.loc[ f_reg.P_Value <= 0.1, 'Featrues' ] )"
   ]
  },
  {
   "cell_type": "code",
   "execution_count": 31,
   "id": "83321c3e",
   "metadata": {},
   "outputs": [
    {
     "data": {
      "text/plain": [
       "16"
      ]
     },
     "execution_count": 31,
     "metadata": {},
     "output_type": "execute_result"
    }
   ],
   "source": [
    "len(features)"
   ]
  },
  {
   "cell_type": "markdown",
   "id": "49641821",
   "metadata": {},
   "source": [
    "#### multicolinearity"
   ]
  },
  {
   "cell_type": "code",
   "execution_count": 32,
   "id": "e68cb496",
   "metadata": {},
   "outputs": [],
   "source": [
    "# import the packages for vif\n",
    "from statsmodels.stats.outliers_influence import variance_inflation_factor\n",
    "from patsy import dmatrices"
   ]
  },
  {
   "cell_type": "code",
   "execution_count": 33,
   "id": "9faa2fcd",
   "metadata": {},
   "outputs": [],
   "source": [
    "model_param = 'ln_sales_in_thousands ~ ' + ' + '.join(features)"
   ]
  },
  {
   "cell_type": "code",
   "execution_count": 34,
   "id": "8b15060f",
   "metadata": {},
   "outputs": [],
   "source": [
    "model_param = '''ln_sales_in_thousands ~ Fuel_efficiency + \n",
    "        Manufacturer_Audi + Manufacturer_Ford + Manufacturer_Honda + Manufacturer_Mercedes_B + \n",
    "        Manufacturer_Plymouth + Manufacturer_Porsche + Manufacturer_Toyota + Manufacturer_Volvo + \n",
    "        Price_in_thousands + Vehicle_type_Passenger + Wheelbase '''"
   ]
  },
  {
   "cell_type": "code",
   "execution_count": 35,
   "id": "420872df",
   "metadata": {},
   "outputs": [],
   "source": [
    "# separate the Y and X variables\n",
    "y, X = dmatrices( model_param, cars_new, return_type = 'dataframe' )\n",
    "\n",
    "# For each X, calculate VIF and save in dataframe\n",
    "vif = pd.DataFrame()\n",
    "\n",
    "vif['Features'] = X.columns\n",
    "vif['VIF Factor'] = [ variance_inflation_factor(X.values, i) for i in range(X.shape[1]) ]"
   ]
  },
  {
   "cell_type": "code",
   "execution_count": 37,
   "id": "6f919c99",
   "metadata": {},
   "outputs": [
    {
     "data": {
      "text/html": [
       "<div>\n",
       "<style scoped>\n",
       "    .dataframe tbody tr th:only-of-type {\n",
       "        vertical-align: middle;\n",
       "    }\n",
       "\n",
       "    .dataframe tbody tr th {\n",
       "        vertical-align: top;\n",
       "    }\n",
       "\n",
       "    .dataframe thead th {\n",
       "        text-align: right;\n",
       "    }\n",
       "</style>\n",
       "<table border=\"1\" class=\"dataframe\">\n",
       "  <thead>\n",
       "    <tr style=\"text-align: right;\">\n",
       "      <th></th>\n",
       "      <th>Features</th>\n",
       "      <th>VIF Factor</th>\n",
       "    </tr>\n",
       "  </thead>\n",
       "  <tbody>\n",
       "    <tr>\n",
       "      <th>0</th>\n",
       "      <td>Intercept</td>\n",
       "      <td>618.2</td>\n",
       "    </tr>\n",
       "    <tr>\n",
       "      <th>10</th>\n",
       "      <td>Fuel_efficiency</td>\n",
       "      <td>3.9</td>\n",
       "    </tr>\n",
       "    <tr>\n",
       "      <th>11</th>\n",
       "      <td>Price_in_thousands</td>\n",
       "      <td>3.2</td>\n",
       "    </tr>\n",
       "    <tr>\n",
       "      <th>9</th>\n",
       "      <td>Vehicle_type_Passenger[T.True]</td>\n",
       "      <td>2.5</td>\n",
       "    </tr>\n",
       "    <tr>\n",
       "      <th>12</th>\n",
       "      <td>Wheelbase</td>\n",
       "      <td>1.6</td>\n",
       "    </tr>\n",
       "    <tr>\n",
       "      <th>4</th>\n",
       "      <td>Manufacturer_Mercedes_B[T.True]</td>\n",
       "      <td>1.5</td>\n",
       "    </tr>\n",
       "    <tr>\n",
       "      <th>6</th>\n",
       "      <td>Manufacturer_Porsche[T.True]</td>\n",
       "      <td>1.4</td>\n",
       "    </tr>\n",
       "    <tr>\n",
       "      <th>7</th>\n",
       "      <td>Manufacturer_Toyota[T.True]</td>\n",
       "      <td>1.2</td>\n",
       "    </tr>\n",
       "    <tr>\n",
       "      <th>1</th>\n",
       "      <td>Manufacturer_Audi[T.True]</td>\n",
       "      <td>1.1</td>\n",
       "    </tr>\n",
       "    <tr>\n",
       "      <th>2</th>\n",
       "      <td>Manufacturer_Ford[T.True]</td>\n",
       "      <td>1.1</td>\n",
       "    </tr>\n",
       "    <tr>\n",
       "      <th>3</th>\n",
       "      <td>Manufacturer_Honda[T.True]</td>\n",
       "      <td>1.1</td>\n",
       "    </tr>\n",
       "    <tr>\n",
       "      <th>5</th>\n",
       "      <td>Manufacturer_Plymouth[T.True]</td>\n",
       "      <td>1.0</td>\n",
       "    </tr>\n",
       "    <tr>\n",
       "      <th>8</th>\n",
       "      <td>Manufacturer_Volvo[T.True]</td>\n",
       "      <td>1.0</td>\n",
       "    </tr>\n",
       "  </tbody>\n",
       "</table>\n",
       "</div>"
      ],
      "text/plain": [
       "                           Features  VIF Factor\n",
       "0                         Intercept       618.2\n",
       "10                  Fuel_efficiency         3.9\n",
       "11               Price_in_thousands         3.2\n",
       "9    Vehicle_type_Passenger[T.True]         2.5\n",
       "12                        Wheelbase         1.6\n",
       "4   Manufacturer_Mercedes_B[T.True]         1.5\n",
       "6      Manufacturer_Porsche[T.True]         1.4\n",
       "7       Manufacturer_Toyota[T.True]         1.2\n",
       "1         Manufacturer_Audi[T.True]         1.1\n",
       "2         Manufacturer_Ford[T.True]         1.1\n",
       "3        Manufacturer_Honda[T.True]         1.1\n",
       "5     Manufacturer_Plymouth[T.True]         1.0\n",
       "8        Manufacturer_Volvo[T.True]         1.0"
      ]
     },
     "execution_count": 37,
     "metadata": {},
     "output_type": "execute_result"
    }
   ],
   "source": [
    "# display the output\n",
    "vif.round(1).sort_values(by = 'VIF Factor', ascending = False)"
   ]
  },
  {
   "cell_type": "code",
   "execution_count": 38,
   "id": "4b329d41",
   "metadata": {},
   "outputs": [],
   "source": [
    "features = list( vif.loc[1:, 'Features'] )"
   ]
  },
  {
   "cell_type": "markdown",
   "id": "cc7340e0",
   "metadata": {},
   "source": [
    "### train test split"
   ]
  },
  {
   "cell_type": "code",
   "execution_count": 39,
   "id": "fb8b7de1",
   "metadata": {},
   "outputs": [],
   "source": [
    "# from sklearn.model_selection import train_test_split\n",
    "# import statsmodels.formula.api as smf\n",
    "\n",
    "# this is the method1, which will be used for the input to smf\n",
    "train, test = train_test_split( cars_new, test_size = 0.3, random_state = 1 )"
   ]
  },
  {
   "cell_type": "code",
   "execution_count": 40,
   "id": "624c21d8-c9da-4158-bf01-a29266a75a75",
   "metadata": {},
   "outputs": [
    {
     "data": {
      "text/plain": [
       "Index(['Manufacturer_Audi', 'Manufacturer_BMW', 'Manufacturer_Buick',\n",
       "       'Manufacturer_Cadillac', 'Manufacturer_Chevrolet',\n",
       "       'Manufacturer_Chrysler', 'Manufacturer_Dodge', 'Manufacturer_Ford',\n",
       "       'Manufacturer_Honda', 'Manufacturer_Hyundai', 'Manufacturer_Infiniti',\n",
       "       'Manufacturer_Jaguar', 'Manufacturer_Jeep', 'Manufacturer_Lexus',\n",
       "       'Manufacturer_Lincoln', 'Manufacturer_Mercedes_B',\n",
       "       'Manufacturer_Mercury', 'Manufacturer_Mitsubishi',\n",
       "       'Manufacturer_Nissan', 'Manufacturer_Oldsmobile',\n",
       "       'Manufacturer_Plymouth', 'Manufacturer_Pontiac', 'Manufacturer_Porsche',\n",
       "       'Manufacturer_Saab', 'Manufacturer_Saturn', 'Manufacturer_Subaru',\n",
       "       'Manufacturer_Toyota', 'Manufacturer_Volkswagen', 'Manufacturer_Volvo',\n",
       "       'Vehicle_type_Passenger', 'Sales_in_thousands',\n",
       "       'four_year_resale_value', 'Price_in_thousands', 'Engine_size',\n",
       "       'Horsepower', 'Wheelbase', 'Width', 'Length', 'Curb_weight',\n",
       "       'Fuel_capacity', 'Fuel_efficiency', 'Power_perf_factor',\n",
       "       'ln_sales_in_thousands'],\n",
       "      dtype='object')"
      ]
     },
     "execution_count": 40,
     "metadata": {},
     "output_type": "execute_result"
    }
   ],
   "source": [
    "train.columns"
   ]
  },
  {
   "cell_type": "code",
   "execution_count": 41,
   "id": "41a14e9d",
   "metadata": {},
   "outputs": [],
   "source": [
    "X_vars = cars_new.columns.difference(['ln_sales_in_thousands', 'Sales_in_thousands'])\n",
    "y_var = 'ln_sales_in_thousands'"
   ]
  },
  {
   "cell_type": "code",
   "execution_count": 42,
   "id": "1fdd997b",
   "metadata": {},
   "outputs": [],
   "source": [
    "# from sklearn.model_selection import train_test_split\n",
    "# from sklearn.linear_model import LinearRegression\n",
    "\n",
    "# this is the method2, which will be used for the input to sklearn based methods\n",
    "X_train, X_test, y_train, y_test = train_test_split( cars_new[X_vars], cars_new[y_var], \n",
    "                                                        test_size = 0.3, random_state = 1 )"
   ]
  },
  {
   "cell_type": "markdown",
   "id": "b426ec52",
   "metadata": {},
   "source": [
    "### Define and fit the model"
   ]
  },
  {
   "cell_type": "raw",
   "id": "fc8f7b55",
   "metadata": {},
   "source": [
    "Steps for model building:\n",
    "------------------------------------------------------------------\n",
    "Step 1: lm = smf.ols('y~x1+x2+x3...xn', data = train) # defining Y and X with classs\n",
    "\n",
    "Step 2: lm.fit()     # building model (estimating the betas)\n",
    "\n",
    "Step 3: lm.summary() # get the output summary of the model\n",
    "\n",
    "Step 4: lm.predict(train) # predict the sales on the training data\n",
    "\n",
    "Step 5: lm.predict(test) # predict the sales on the testing/validation data\n",
    "\n",
    "Step 6: test the accuracy of the model\n",
    "    a.  MAPE: Mean Absolute Percentage Error\n",
    "    b.  RMSE: Root Mean Square Error\n",
    "    c.  Corelation between actual and predicted\n",
    "    d.  Decile analysis: for validation of models - Business validation\n",
    "    \n",
    "    \n",
    "R square:\n",
    "1 - SSE(best fit) / SSE(no slope)\n",
    "\n",
    "Adjusted R square:\n",
    "1 - [(1 - R2)(n - 1) / (n - k - 1)]"
   ]
  },
  {
   "cell_type": "code",
   "execution_count": 43,
   "id": "ab9c8c0e",
   "metadata": {},
   "outputs": [
    {
     "data": {
      "text/plain": [
       "'a + b + c + d'"
      ]
     },
     "execution_count": 43,
     "metadata": {},
     "output_type": "execute_result"
    }
   ],
   "source": [
    "' + '.join( ['a', 'b', 'c', 'd'] )"
   ]
  },
  {
   "cell_type": "markdown",
   "id": "0cd98f46",
   "metadata": {},
   "source": [
    "#### model 0: all the variables"
   ]
  },
  {
   "cell_type": "code",
   "execution_count": 44,
   "id": "f40cbcf6",
   "metadata": {},
   "outputs": [],
   "source": [
    "# define the model equation\n",
    "formula_lm = 'ln_sales_in_thousands ~ ' + ' + '.join( X_vars )"
   ]
  },
  {
   "cell_type": "code",
   "execution_count": 45,
   "id": "df5043ce",
   "metadata": {},
   "outputs": [],
   "source": [
    "# fit the model\n",
    "lm_0 = smf.ols( formula_lm, train ).fit()"
   ]
  },
  {
   "cell_type": "code",
   "execution_count": 46,
   "id": "1c4a3b07",
   "metadata": {},
   "outputs": [
    {
     "name": "stdout",
     "output_type": "stream",
     "text": [
      "                              OLS Regression Results                             \n",
      "=================================================================================\n",
      "Dep. Variable:     ln_sales_in_thousands   R-squared:                       0.700\n",
      "Model:                               OLS   Adj. R-squared:                  0.523\n",
      "Method:                    Least Squares   F-statistic:                     3.962\n",
      "Date:                   Sun, 08 Sep 2024   Prob (F-statistic):           3.00e-07\n",
      "Time:                           11:29:31   Log-Likelihood:                -112.66\n",
      "No. Observations:                    109   AIC:                             307.3\n",
      "Df Residuals:                         68   BIC:                             417.7\n",
      "Df Model:                             40                                         \n",
      "Covariance Type:               nonrobust                                         \n",
      "===================================================================================================\n",
      "                                      coef    std err          t      P>|t|      [0.025      0.975]\n",
      "---------------------------------------------------------------------------------------------------\n",
      "Intercept                         -11.3551      4.513     -2.516      0.014     -20.360      -2.350\n",
      "Manufacturer_Audi[T.True]          -0.0864      0.847     -0.102      0.919      -1.776       1.603\n",
      "Manufacturer_BMW[T.True]           -0.1732      0.730     -0.237      0.813      -1.629       1.283\n",
      "Manufacturer_Buick[T.True]          0.4484      0.724      0.620      0.538      -0.996       1.892\n",
      "Manufacturer_Cadillac[T.True]       0.1434      0.893      0.161      0.873      -1.638       1.924\n",
      "Manufacturer_Chevrolet[T.True]      0.0924      0.705      0.131      0.896      -1.314       1.499\n",
      "Manufacturer_Chrysler[T.True]      -0.3188      0.783     -0.407      0.685      -1.880       1.243\n",
      "Manufacturer_Dodge[T.True]          0.5133      0.698      0.735      0.465      -0.880       1.906\n",
      "Manufacturer_Ford[T.True]           1.3665      0.673      2.032      0.046       0.024       2.709\n",
      "Manufacturer_Honda[T.True]          0.2371      0.741      0.320      0.750      -1.241       1.715\n",
      "Manufacturer_Hyundai[T.True]        0.5577      0.764      0.730      0.468      -0.966       2.081\n",
      "Manufacturer_Infiniti[T.True]       0.5061      1.020      0.496      0.621      -1.530       2.542\n",
      "Manufacturer_Jaguar[T.True]      1.155e-14   1.34e-14      0.864      0.391   -1.51e-14    3.82e-14\n",
      "Manufacturer_Jeep[T.True]           2.1711      1.011      2.147      0.035       0.153       4.189\n",
      "Manufacturer_Lexus[T.True]          0.4322      0.695      0.622      0.536      -0.954       1.818\n",
      "Manufacturer_Lincoln[T.True]        0.4295      0.919      0.468      0.642      -1.404       2.263\n",
      "Manufacturer_Mercedes_B[T.True]     0.4530      0.712      0.636      0.527      -0.968       1.874\n",
      "Manufacturer_Mercury[T.True]       -0.4352      0.718     -0.606      0.546      -1.868       0.998\n",
      "Manufacturer_Mitsubishi[T.True]     0.2516      0.665      0.378      0.707      -1.076       1.579\n",
      "Manufacturer_Nissan[T.True]         1.1558      0.672      1.721      0.090      -0.185       2.496\n",
      "Manufacturer_Oldsmobile[T.True]    -0.9681      0.711     -1.362      0.178      -2.386       0.450\n",
      "Manufacturer_Plymouth[T.True]      -1.2482      0.843     -1.481      0.143      -2.930       0.434\n",
      "Manufacturer_Pontiac[T.True]        0.6402      0.741      0.864      0.390      -0.838       2.118\n",
      "Manufacturer_Porsche[T.True]        1.9238      1.361      1.413      0.162      -0.793       4.640\n",
      "Manufacturer_Saab[T.True]           0.9369      1.080      0.867      0.389      -1.219       3.093\n",
      "Manufacturer_Saturn[T.True]        -0.7187      0.730     -0.985      0.328      -2.175       0.738\n",
      "Manufacturer_Subaru[T.True]         0.8537      0.845      1.011      0.316      -0.832       2.539\n",
      "Manufacturer_Toyota[T.True]         0.9443      0.678      1.393      0.168      -0.409       2.297\n",
      "Manufacturer_Volkswagen[T.True]     0.1349      0.790      0.171      0.865      -1.441       1.710\n",
      "Manufacturer_Volvo[T.True]          0.2735      0.697      0.392      0.696      -1.117       1.664\n",
      "Vehicle_type_Passenger[T.True]     -0.4253      0.489     -0.870      0.387      -1.401       0.550\n",
      "Curb_weight                         0.6756      0.512      1.319      0.192      -0.347       1.698\n",
      "Engine_size                         0.4917      0.388      1.267      0.209      -0.283       1.266\n",
      "Fuel_capacity                      -0.1103      0.068     -1.632      0.107      -0.245       0.025\n",
      "Fuel_efficiency                     0.1668      0.068      2.467      0.016       0.032       0.302\n",
      "Horsepower                         -0.0205      0.023     -0.885      0.379      -0.067       0.026\n",
      "Length                             -0.0164      0.025     -0.667      0.507      -0.065       0.033\n",
      "Power_perf_factor                   0.0503      0.065      0.780      0.438      -0.078       0.179\n",
      "Price_in_thousands                 -0.0884      0.038     -2.343      0.022      -0.164      -0.013\n",
      "Wheelbase                           0.1047      0.041      2.568      0.012       0.023       0.186\n",
      "Width                               0.0371      0.067      0.551      0.584      -0.097       0.171\n",
      "four_year_resale_value              0.0209      0.024      0.886      0.379      -0.026       0.068\n",
      "==============================================================================\n",
      "Omnibus:                        5.909   Durbin-Watson:                   2.105\n",
      "Prob(Omnibus):                  0.052   Jarque-Bera (JB):                6.562\n",
      "Skew:                          -0.321   Prob(JB):                       0.0376\n",
      "Kurtosis:                       4.016   Cond. No.                     1.01e+16\n",
      "==============================================================================\n",
      "\n",
      "Notes:\n",
      "[1] Standard Errors assume that the covariance matrix of the errors is correctly specified.\n",
      "[2] The smallest eigenvalue is 9.82e-26. This might indicate that there are\n",
      "strong multicollinearity problems or that the design matrix is singular.\n"
     ]
    }
   ],
   "source": [
    "# get the model summary and evaluate the model for stability\n",
    "print( lm_0.summary() )"
   ]
  },
  {
   "cell_type": "markdown",
   "id": "d2059ab5",
   "metadata": {},
   "source": [
    "#### model 1 - only important features (variable selection yet to be discussed)"
   ]
  },
  {
   "cell_type": "code",
   "execution_count": 47,
   "id": "04404d64",
   "metadata": {},
   "outputs": [],
   "source": [
    "formula_lm1 = '''ln_sales_in_thousands ~ Price_in_thousands + Manufacturer_Ford + Length + \n",
    "Fuel_efficiency + Vehicle_type_Passenger'''"
   ]
  },
  {
   "cell_type": "code",
   "execution_count": 48,
   "id": "bf9dbe0b",
   "metadata": {},
   "outputs": [],
   "source": [
    "# fit the model\n",
    "lm_1 = smf.ols( formula_lm1, train ).fit()"
   ]
  },
  {
   "cell_type": "code",
   "execution_count": 49,
   "id": "9de2392c",
   "metadata": {},
   "outputs": [
    {
     "name": "stdout",
     "output_type": "stream",
     "text": [
      "                              OLS Regression Results                             \n",
      "=================================================================================\n",
      "Dep. Variable:     ln_sales_in_thousands   R-squared:                       0.493\n",
      "Model:                               OLS   Adj. R-squared:                  0.469\n",
      "Method:                    Least Squares   F-statistic:                     20.06\n",
      "Date:                   Sun, 08 Sep 2024   Prob (F-statistic):           6.39e-14\n",
      "Time:                           11:29:33   Log-Likelihood:                -141.17\n",
      "No. Observations:                    109   AIC:                             294.3\n",
      "Df Residuals:                        103   BIC:                             310.5\n",
      "Df Model:                              5                                         \n",
      "Covariance Type:               nonrobust                                         \n",
      "==================================================================================================\n",
      "                                     coef    std err          t      P>|t|      [0.025      0.975]\n",
      "--------------------------------------------------------------------------------------------------\n",
      "Intercept                         -2.0497      2.028     -1.011      0.315      -6.072       1.973\n",
      "Manufacturer_Ford[T.True]          1.2192      0.360      3.383      0.001       0.504       1.934\n",
      "Vehicle_type_Passenger[T.True]    -0.8653      0.309     -2.804      0.006      -1.477      -0.253\n",
      "Price_in_thousands                -0.0422      0.009     -4.656      0.000      -0.060      -0.024\n",
      "Length                             0.0277      0.008      3.573      0.001       0.012       0.043\n",
      "Fuel_efficiency                    0.0767      0.040      1.908      0.059      -0.003       0.156\n",
      "==============================================================================\n",
      "Omnibus:                       16.109   Durbin-Watson:                   2.205\n",
      "Prob(Omnibus):                  0.000   Jarque-Bera (JB):               21.094\n",
      "Skew:                          -0.767   Prob(JB):                     2.63e-05\n",
      "Kurtosis:                       4.514   Cond. No.                     4.43e+03\n",
      "==============================================================================\n",
      "\n",
      "Notes:\n",
      "[1] Standard Errors assume that the covariance matrix of the errors is correctly specified.\n",
      "[2] The condition number is large, 4.43e+03. This might indicate that there are\n",
      "strong multicollinearity or other numerical problems.\n"
     ]
    }
   ],
   "source": [
    "# get the model summary and evaluate the model for stability\n",
    "print( lm_1.summary() )"
   ]
  },
  {
   "cell_type": "code",
   "execution_count": 50,
   "id": "64ff2a68",
   "metadata": {},
   "outputs": [],
   "source": [
    "# cars_new.columns"
   ]
  },
  {
   "cell_type": "markdown",
   "id": "fb45d1cd",
   "metadata": {},
   "source": [
    "#### model 2 - after removal of insignificant variables"
   ]
  },
  {
   "cell_type": "code",
   "execution_count": 51,
   "id": "0e8c380b",
   "metadata": {},
   "outputs": [],
   "source": [
    "formula_m2 = 'ln_sales_in_thousands ~ ' + ' + '.join(features)"
   ]
  },
  {
   "cell_type": "markdown",
   "id": "f5836bd6",
   "metadata": {},
   "source": [
    "#### model 3 - after removal of Multicolinear variables as well"
   ]
  },
  {
   "cell_type": "code",
   "execution_count": 53,
   "id": "6c1a479a",
   "metadata": {},
   "outputs": [
    {
     "data": {
      "text/plain": [
       "['Manufacturer_Audi[T.True]',\n",
       " 'Manufacturer_Ford[T.True]',\n",
       " 'Manufacturer_Honda[T.True]',\n",
       " 'Manufacturer_Mercedes_B[T.True]',\n",
       " 'Manufacturer_Plymouth[T.True]',\n",
       " 'Manufacturer_Porsche[T.True]',\n",
       " 'Manufacturer_Toyota[T.True]',\n",
       " 'Manufacturer_Volvo[T.True]',\n",
       " 'Vehicle_type_Passenger[T.True]',\n",
       " 'Fuel_efficiency',\n",
       " 'Price_in_thousands',\n",
       " 'Wheelbase']"
      ]
     },
     "execution_count": 53,
     "metadata": {},
     "output_type": "execute_result"
    }
   ],
   "source": [
    "features"
   ]
  },
  {
   "cell_type": "code",
   "execution_count": 55,
   "id": "c4779655",
   "metadata": {},
   "outputs": [],
   "source": [
    "formula_m3 = 'ln_sales_in_thousands ~ ' + ' + '.join(features)"
   ]
  },
  {
   "cell_type": "code",
   "execution_count": 57,
   "id": "7b1aa828-e170-4e53-b8f0-959151722042",
   "metadata": {},
   "outputs": [
    {
     "data": {
      "text/plain": [
       "'ln_sales_in_thousands ~ Manufacturer_Audi[T.True] + Manufacturer_Ford[T.True] + Manufacturer_Honda[T.True] + Manufacturer_Mercedes_B[T.True] + Manufacturer_Plymouth[T.True] + Manufacturer_Porsche[T.True] + Manufacturer_Toyota[T.True] + Manufacturer_Volvo[T.True] + Vehicle_type_Passenger[T.True] + Fuel_efficiency + Price_in_thousands + Wheelbase'"
      ]
     },
     "execution_count": 57,
     "metadata": {},
     "output_type": "execute_result"
    }
   ],
   "source": [
    "formula_m3"
   ]
  },
  {
   "cell_type": "code",
   "execution_count": 58,
   "id": "a2695b6f",
   "metadata": {},
   "outputs": [],
   "source": [
    "formula_m3 = 'ln_sales_in_thousands ~ Manufacturer_Audi + Manufacturer_Ford + Manufacturer_Honda + Manufacturer_Mercedes_B + Manufacturer_Plymouth + Manufacturer_Porsche + Manufacturer_Toyota + Manufacturer_Volvo + Vehicle_type_Passenger+ Fuel_efficiency + Price_in_thousands + Wheelbase'"
   ]
  },
  {
   "cell_type": "code",
   "execution_count": 59,
   "id": "3194c44c",
   "metadata": {},
   "outputs": [
    {
     "name": "stdout",
     "output_type": "stream",
     "text": [
      "                              OLS Regression Results                             \n",
      "=================================================================================\n",
      "Dep. Variable:     ln_sales_in_thousands   R-squared:                       0.549\n",
      "Model:                               OLS   Adj. R-squared:                  0.492\n",
      "Method:                    Least Squares   F-statistic:                     9.725\n",
      "Date:                   Sun, 08 Sep 2024   Prob (F-statistic):           4.05e-12\n",
      "Time:                           11:30:08   Log-Likelihood:                -134.87\n",
      "No. Observations:                    109   AIC:                             295.7\n",
      "Df Residuals:                         96   BIC:                             330.7\n",
      "Df Model:                             12                                         \n",
      "Covariance Type:               nonrobust                                         \n",
      "===================================================================================================\n",
      "                                      coef    std err          t      P>|t|      [0.025      0.975]\n",
      "---------------------------------------------------------------------------------------------------\n",
      "Intercept                          -3.2382      2.133     -1.518      0.132      -7.471       0.995\n",
      "Manufacturer_Audi[T.True]          -0.7929      0.662     -1.197      0.234      -2.108       0.522\n",
      "Manufacturer_Ford[T.True]           1.2057      0.356      3.388      0.001       0.499       1.912\n",
      "Manufacturer_Honda[T.True]          0.2842      0.547      0.520      0.605      -0.802       1.370\n",
      "Manufacturer_Mercedes_B[T.True]    -0.0184      0.494     -0.037      0.970      -1.000       0.963\n",
      "Manufacturer_Plymouth[T.True]      -1.2263      0.535     -2.290      0.024      -2.289      -0.163\n",
      "Manufacturer_Porsche[T.True]        0.5662      1.070      0.529      0.598      -1.559       2.691\n",
      "Manufacturer_Toyota[T.True]         0.5882      0.409      1.439      0.153      -0.223       1.400\n",
      "Manufacturer_Volvo[T.True]         -0.5739      0.419     -1.370      0.174      -1.406       0.258\n",
      "Vehicle_type_Passenger[T.True]     -0.3666      0.335     -1.094      0.277      -1.032       0.299\n",
      "Fuel_efficiency                     0.0555      0.043      1.290      0.200      -0.030       0.141\n",
      "Price_in_thousands                 -0.0446      0.012     -3.823      0.000      -0.068      -0.021\n",
      "Wheelbase                           0.0617      0.016      3.911      0.000       0.030       0.093\n",
      "==============================================================================\n",
      "Omnibus:                       19.868   Durbin-Watson:                   2.189\n",
      "Prob(Omnibus):                  0.000   Jarque-Bera (JB):               28.484\n",
      "Skew:                          -0.880   Prob(JB):                     6.53e-07\n",
      "Kurtosis:                       4.782   Cond. No.                     2.82e+03\n",
      "==============================================================================\n",
      "\n",
      "Notes:\n",
      "[1] Standard Errors assume that the covariance matrix of the errors is correctly specified.\n",
      "[2] The condition number is large, 2.82e+03. This might indicate that there are\n",
      "strong multicollinearity or other numerical problems.\n"
     ]
    }
   ],
   "source": [
    "lm3 = smf.ols( formula_m3, train ).fit()\n",
    "print(lm3.summary())"
   ]
  },
  {
   "cell_type": "markdown",
   "id": "fc8f8e84",
   "metadata": {},
   "source": [
    "### Predict the output on train and test"
   ]
  },
  {
   "cell_type": "code",
   "execution_count": 60,
   "id": "bf069009-88e5-4da9-9b3c-8f8f9c91d1ae",
   "metadata": {},
   "outputs": [],
   "source": [
    "y_train_predict = np.exp(lm3.predict(train))\n",
    "y_test_predict = np.exp(lm3.predict(test))"
   ]
  },
  {
   "cell_type": "code",
   "execution_count": 61,
   "id": "774d1dae-f1a3-43d0-8942-1a60a7c610a7",
   "metadata": {},
   "outputs": [],
   "source": [
    "#MAPE - Mean Absolute Percentage Error\n",
    "#MSE - Mean Squared Error\n",
    "#MAE - Mean Absolute Error"
   ]
  },
  {
   "cell_type": "code",
   "execution_count": 62,
   "id": "c2ed6624-862e-4082-b852-dc10c19faa1e",
   "metadata": {},
   "outputs": [
    {
     "name": "stdout",
     "output_type": "stream",
     "text": [
      "MAPE: 1.0627424267132264 0.7846231858583743\n"
     ]
    }
   ],
   "source": [
    "#MAPE - Mean Absolute Percentage Error\n",
    "\n",
    "mape_train = mean_absolute_percentage_error(train.Sales_in_thousands,y_train_predict)\n",
    "mape_test = mean_absolute_percentage_error(test.Sales_in_thousands,y_test_predict)\n",
    "print('MAPE:' ,mape_train,mape_test)"
   ]
  },
  {
   "cell_type": "code",
   "execution_count": 63,
   "id": "89dfaccd-ef3b-4151-b8ff-2885ac7f79ee",
   "metadata": {},
   "outputs": [
    {
     "name": "stdout",
     "output_type": "stream",
     "text": [
      "MSE: 2099.9270142379473 2774.136318762487\n"
     ]
    }
   ],
   "source": [
    "#MSE - Mean Squared Error\n",
    "\n",
    "mse_train = mean_squared_error(train.Sales_in_thousands,y_train_predict)\n",
    "mse_test = mean_squared_error(test.Sales_in_thousands,y_test_predict)\n",
    "print('MSE:' ,mse_train,mse_test)"
   ]
  },
  {
   "cell_type": "code",
   "execution_count": 64,
   "id": "f8b5f587-d9e5-414b-83c1-a0e8c5897b8d",
   "metadata": {},
   "outputs": [
    {
     "name": "stdout",
     "output_type": "stream",
     "text": [
      "MAE: 27.601753463383492 32.03460484236993\n"
     ]
    }
   ],
   "source": [
    "#MAE - Mean Absolute Error\n",
    "mae_train = mean_absolute_error(train.Sales_in_thousands,y_train_predict)\n",
    "mae_test = mean_absolute_error(test.Sales_in_thousands,y_test_predict)\n",
    "print('MAE:' ,mae_train,mae_test)"
   ]
  },
  {
   "cell_type": "code",
   "execution_count": 65,
   "id": "a9fbca30-866e-48c5-a9dc-62c433477c71",
   "metadata": {},
   "outputs": [
    {
     "data": {
      "image/png": "[encoded data removed]",
      "text/plain": [
       "<Figure size 640x480 with 1 Axes>"
      ]
     },
     "metadata": {},
     "output_type": "display_data"
    }
   ],
   "source": [
    "#correlation\n",
    "plt.scatter(train.Sales_in_thousands,y_train_predict)\n",
    "plt.show()"
   ]
  },
  {
   "cell_type": "code",
   "execution_count": 66,
   "id": "44e1f264-887a-4a7b-a59b-5a4ebcb0512b",
   "metadata": {},
   "outputs": [
    {
     "data": {
      "image/png": "[encoded data removed]",
      "text/plain": [
       "<Figure size 640x480 with 1 Axes>"
      ]
     },
     "metadata": {},
     "output_type": "display_data"
    }
   ],
   "source": [
    "plt.scatter(test.Sales_in_thousands,y_test_predict)\n",
    "plt.show()"
   ]
  },
  {
   "cell_type": "code",
   "execution_count": 67,
   "id": "3f581021-7c19-450c-a3a7-45001c624112",
   "metadata": {},
   "outputs": [],
   "source": [
    "# plt.scatter?"
   ]
  },
  {
   "cell_type": "code",
   "execution_count": 68,
   "id": "77261285-a15b-47f7-9035-0901354bf55a",
   "metadata": {},
   "outputs": [
    {
     "data": {
      "text/plain": [
       "135    0.165509\n",
       "77     0.998501\n",
       "18    -0.090156\n",
       "48    -1.244025\n",
       "4      0.652986\n",
       "         ...   \n",
       "133    0.059428\n",
       "137    1.320471\n",
       "72    -1.091547\n",
       "140   -0.055905\n",
       "37     0.775137\n",
       "Length: 109, dtype: float64"
      ]
     },
     "execution_count": 68,
     "metadata": {},
     "output_type": "execute_result"
    }
   ],
   "source": [
    "lm3.resid"
   ]
  },
  {
   "cell_type": "code",
   "execution_count": 69,
   "id": "3e2998d4-7202-4480-a8a4-9ea3fc519170",
   "metadata": {},
   "outputs": [
    {
     "name": "stderr",
     "output_type": "stream",
     "text": [
      "C:\\Users\\ritik\\AppData\\Local\\Temp\\ipykernel_39648\\447327322.py:2: UserWarning: \n",
      "\n",
      "`distplot` is a deprecated function and will be removed in seaborn v0.14.0.\n",
      "\n",
      "Please adapt your code to use either `displot` (a figure-level function with\n",
      "similar flexibility) or `histplot` (an axes-level function for histograms).\n",
      "\n",
      "For a guide to updating your code to use the new functions, please see\n",
      "https://gist.github.com/mwaskom/de44147ed2974457ad6372750bbe5751\n",
      "\n",
      "  sns.distplot(lm3.resid)\n"
     ]
    },
    {
     "data": {
      "image/png": "[encoded data removed]",
      "text/plain": [
       "<Figure size 640x480 with 1 Axes>"
      ]
     },
     "metadata": {},
     "output_type": "display_data"
    }
   ],
   "source": [
    "#Assumption Check - Residulas should be normally distributed\n",
    "sns.distplot(lm3.resid)\n",
    "plt.show()"
   ]
  },
  {
   "cell_type": "code",
   "execution_count": 78,
   "id": "f17645c6-ffc9-46e8-b184-80d4cbbf584a",
   "metadata": {},
   "outputs": [
    {
     "name": "stdout",
     "output_type": "stream",
     "text": [
      "-1.2646356948390774e-14\n"
     ]
    }
   ],
   "source": [
    "#assumption: Mean of errors/residuals should be zero\n",
    "print(lm3.resid.mean())"
   ]
  },
  {
   "cell_type": "code",
   "execution_count": 81,
   "id": "05394db6-5461-474a-9a51-a2543ae568dd",
   "metadata": {},
   "outputs": [
    {
     "name": "stdout",
     "output_type": "stream",
     "text": [
      "PearsonRResult(statistic=0.6718095818729639, pvalue=1.2808522766411382e-15)\n"
     ]
    },
    {
     "name": "stderr",
     "output_type": "stream",
     "text": [
      "C:\\Users\\hp\\AppData\\Local\\Temp\\ipykernel_21144\\919529771.py:2: DeprecationWarning: Please import `pearsonr` from the `scipy.stats` namespace; the `scipy.stats.stats` namespace is deprecated and will be removed in SciPy 2.0.0.\n",
      "  print(stats.stats.pearsonr(lm3.resid,train.ln_sales_in_thousands))\n"
     ]
    }
   ],
   "source": [
    "#assumption - errors are independent of the dependent variable\n",
    "print(stats.stats.pearsonr(lm3.resid,train.ln_sales_in_thousands))"
   ]
  },
  {
   "cell_type": "code",
   "execution_count": 82,
   "id": "ff9c76a2-a275-4b0e-871e-a71edc868ff2",
   "metadata": {},
   "outputs": [
    {
     "data": {
      "image/png": "[encoded data removed]",
      "text/plain": [
       "<Figure size 640x480 with 1 Axes>"
      ]
     },
     "metadata": {},
     "output_type": "display_data"
    }
   ],
   "source": [
    "#assumption - homoscedasticity \n",
    "plt.scatter(lm3.resid,train.ln_sales_in_thousands)\n",
    "plt.show()"
   ]
  },
  {
   "cell_type": "code",
   "execution_count": null,
   "id": "fefa0444-e0cf-4210-9934-373df59e7de4",
   "metadata": {},
   "outputs": [],
   "source": [
    "##Decile Analysis"
   ]
  },
  {
   "cell_type": "code",
   "execution_count": 85,
   "id": "42a4cc79-ea7e-4283-90ae-9ccd4cfca690",
   "metadata": {},
   "outputs": [],
   "source": [
    "train_data = pd.DataFrame([train.Sales_in_thousands,y_train_predict]).T\n",
    "test_data = pd.DataFrame([test.Sales_in_thousands,y_test_predict]).T\n",
    "\n",
    "train_data.columns = ['y_actual','y_predicted']\n",
    "test_data.columns = ['y_actual','y_predicted']"
   ]
  },
  {
   "cell_type": "code",
   "execution_count": 88,
   "id": "b8d3105d-daa7-41be-a924-3b8da98ca444",
   "metadata": {},
   "outputs": [],
   "source": [
    "# test_data"
   ]
  },
  {
   "cell_type": "code",
   "execution_count": 91,
   "id": "0bcc853e-55a5-47d1-9a48-60e961c8ad33",
   "metadata": {},
   "outputs": [],
   "source": [
    "train_data['deciles'] = pd.qcut(train_data.y_predicted, 10, range(1,11))\n",
    "test_data['deciles'] = pd.qcut(test_data.y_predicted, 10, range(1,11))"
   ]
  },
  {
   "cell_type": "code",
   "execution_count": 92,
   "id": "f1a38400-1e59-40b2-9d36-89f3d2362d39",
   "metadata": {},
   "outputs": [
    {
     "data": {
      "text/html": [
       "<div>\n",
       "<style scoped>\n",
       "    .dataframe tbody tr th:only-of-type {\n",
       "        vertical-align: middle;\n",
       "    }\n",
       "\n",
       "    .dataframe tbody tr th {\n",
       "        vertical-align: top;\n",
       "    }\n",
       "\n",
       "    .dataframe thead th {\n",
       "        text-align: right;\n",
       "    }\n",
       "</style>\n",
       "<table border=\"1\" class=\"dataframe\">\n",
       "  <thead>\n",
       "    <tr style=\"text-align: right;\">\n",
       "      <th></th>\n",
       "      <th>y_actual</th>\n",
       "      <th>y_predicted</th>\n",
       "      <th>deciles</th>\n",
       "    </tr>\n",
       "  </thead>\n",
       "  <tbody>\n",
       "    <tr>\n",
       "      <th>135</th>\n",
       "      <td>33.028</td>\n",
       "      <td>27.989981</td>\n",
       "      <td>6</td>\n",
       "    </tr>\n",
       "    <tr>\n",
       "      <th>77</th>\n",
       "      <td>48.911</td>\n",
       "      <td>18.020337</td>\n",
       "      <td>3</td>\n",
       "    </tr>\n",
       "    <tr>\n",
       "      <th>18</th>\n",
       "      <td>14.785</td>\n",
       "      <td>16.179886</td>\n",
       "      <td>3</td>\n",
       "    </tr>\n",
       "    <tr>\n",
       "      <th>48</th>\n",
       "      <td>35.068</td>\n",
       "      <td>121.670158</td>\n",
       "      <td>10</td>\n",
       "    </tr>\n",
       "    <tr>\n",
       "      <th>4</th>\n",
       "      <td>20.397</td>\n",
       "      <td>10.616419</td>\n",
       "      <td>2</td>\n",
       "    </tr>\n",
       "    <tr>\n",
       "      <th>...</th>\n",
       "      <td>...</td>\n",
       "      <td>...</td>\n",
       "      <td>...</td>\n",
       "    </tr>\n",
       "    <tr>\n",
       "      <th>133</th>\n",
       "      <td>49.989</td>\n",
       "      <td>47.104823</td>\n",
       "      <td>8</td>\n",
       "    </tr>\n",
       "    <tr>\n",
       "      <th>137</th>\n",
       "      <td>247.994</td>\n",
       "      <td>66.216753</td>\n",
       "      <td>9</td>\n",
       "    </tr>\n",
       "    <tr>\n",
       "      <th>72</th>\n",
       "      <td>3.334</td>\n",
       "      <td>9.931579</td>\n",
       "      <td>1</td>\n",
       "    </tr>\n",
       "    <tr>\n",
       "      <th>140</th>\n",
       "      <td>84.087</td>\n",
       "      <td>88.921748</td>\n",
       "      <td>10</td>\n",
       "    </tr>\n",
       "    <tr>\n",
       "      <th>37</th>\n",
       "      <td>71.186</td>\n",
       "      <td>32.791172</td>\n",
       "      <td>6</td>\n",
       "    </tr>\n",
       "  </tbody>\n",
       "</table>\n",
       "<p>109 rows × 3 columns</p>\n",
       "</div>"
      ],
      "text/plain": [
       "     y_actual  y_predicted deciles\n",
       "135    33.028    27.989981       6\n",
       "77     48.911    18.020337       3\n",
       "18     14.785    16.179886       3\n",
       "48     35.068   121.670158      10\n",
       "4      20.397    10.616419       2\n",
       "..        ...          ...     ...\n",
       "133    49.989    47.104823       8\n",
       "137   247.994    66.216753       9\n",
       "72      3.334     9.931579       1\n",
       "140    84.087    88.921748      10\n",
       "37     71.186    32.791172       6\n",
       "\n",
       "[109 rows x 3 columns]"
      ]
     },
     "execution_count": 92,
     "metadata": {},
     "output_type": "execute_result"
    }
   ],
   "source": [
    "train_data"
   ]
  },
  {
   "cell_type": "code",
   "execution_count": 93,
   "id": "29c20f0d-f69c-44b0-9b3b-20f2a69cae86",
   "metadata": {},
   "outputs": [
    {
     "name": "stderr",
     "output_type": "stream",
     "text": [
      "C:\\Users\\hp\\AppData\\Local\\Temp\\ipykernel_21144\\1299305166.py:1: FutureWarning: The default of observed=False is deprecated and will be changed to True in a future version of pandas. Pass observed=False to retain current behavior or observed=True to adopt the future default and silence this warning.\n",
      "  decile_train = train_data.groupby('deciles').mean().reset_index().sort_values(by = 'deciles', ascending = False)\n",
      "C:\\Users\\hp\\AppData\\Local\\Temp\\ipykernel_21144\\1299305166.py:2: FutureWarning: The default of observed=False is deprecated and will be changed to True in a future version of pandas. Pass observed=False to retain current behavior or observed=True to adopt the future default and silence this warning.\n",
      "  decile_test = test_data.groupby('deciles').mean().reset_index().sort_values(by = 'deciles', ascending = False)\n"
     ]
    }
   ],
   "source": [
    "decile_train = train_data.groupby('deciles').mean().reset_index().sort_values(by = 'deciles', ascending = False)\n",
    "decile_test = test_data.groupby('deciles').mean().reset_index().sort_values(by = 'deciles', ascending = False)"
   ]
  },
  {
   "cell_type": "code",
   "execution_count": 94,
   "id": "2513d936-6eb6-4426-b8fb-016c97869e4a",
   "metadata": {},
   "outputs": [
    {
     "data": {
      "text/html": [
       "<div>\n",
       "<style scoped>\n",
       "    .dataframe tbody tr th:only-of-type {\n",
       "        vertical-align: middle;\n",
       "    }\n",
       "\n",
       "    .dataframe tbody tr th {\n",
       "        vertical-align: top;\n",
       "    }\n",
       "\n",
       "    .dataframe thead th {\n",
       "        text-align: right;\n",
       "    }\n",
       "</style>\n",
       "<table border=\"1\" class=\"dataframe\">\n",
       "  <thead>\n",
       "    <tr style=\"text-align: right;\">\n",
       "      <th></th>\n",
       "      <th>deciles</th>\n",
       "      <th>y_actual</th>\n",
       "      <th>y_predicted</th>\n",
       "    </tr>\n",
       "  </thead>\n",
       "  <tbody>\n",
       "    <tr>\n",
       "      <th>9</th>\n",
       "      <td>10</td>\n",
       "      <td>121.557665</td>\n",
       "      <td>135.671009</td>\n",
       "    </tr>\n",
       "    <tr>\n",
       "      <th>8</th>\n",
       "      <td>9</td>\n",
       "      <td>110.466636</td>\n",
       "      <td>60.296848</td>\n",
       "    </tr>\n",
       "    <tr>\n",
       "      <th>7</th>\n",
       "      <td>8</td>\n",
       "      <td>53.832364</td>\n",
       "      <td>42.181716</td>\n",
       "    </tr>\n",
       "    <tr>\n",
       "      <th>6</th>\n",
       "      <td>7</td>\n",
       "      <td>49.750909</td>\n",
       "      <td>35.166177</td>\n",
       "    </tr>\n",
       "    <tr>\n",
       "      <th>5</th>\n",
       "      <td>6</td>\n",
       "      <td>40.786000</td>\n",
       "      <td>30.471305</td>\n",
       "    </tr>\n",
       "    <tr>\n",
       "      <th>4</th>\n",
       "      <td>5</td>\n",
       "      <td>38.502545</td>\n",
       "      <td>25.864565</td>\n",
       "    </tr>\n",
       "    <tr>\n",
       "      <th>3</th>\n",
       "      <td>4</td>\n",
       "      <td>31.621818</td>\n",
       "      <td>21.955942</td>\n",
       "    </tr>\n",
       "    <tr>\n",
       "      <th>2</th>\n",
       "      <td>3</td>\n",
       "      <td>21.414545</td>\n",
       "      <td>17.310815</td>\n",
       "    </tr>\n",
       "    <tr>\n",
       "      <th>1</th>\n",
       "      <td>2</td>\n",
       "      <td>16.041662</td>\n",
       "      <td>12.500897</td>\n",
       "    </tr>\n",
       "    <tr>\n",
       "      <th>0</th>\n",
       "      <td>1</td>\n",
       "      <td>4.951207</td>\n",
       "      <td>5.339028</td>\n",
       "    </tr>\n",
       "  </tbody>\n",
       "</table>\n",
       "</div>"
      ],
      "text/plain": [
       "  deciles    y_actual  y_predicted\n",
       "9      10  121.557665   135.671009\n",
       "8       9  110.466636    60.296848\n",
       "7       8   53.832364    42.181716\n",
       "6       7   49.750909    35.166177\n",
       "5       6   40.786000    30.471305\n",
       "4       5   38.502545    25.864565\n",
       "3       4   31.621818    21.955942\n",
       "2       3   21.414545    17.310815\n",
       "1       2   16.041662    12.500897\n",
       "0       1    4.951207     5.339028"
      ]
     },
     "execution_count": 94,
     "metadata": {},
     "output_type": "execute_result"
    }
   ],
   "source": [
    "decile_train"
   ]
  },
  {
   "cell_type": "code",
   "execution_count": 95,
   "id": "5036ff16-fc5a-4f30-b5a4-b1558b980519",
   "metadata": {},
   "outputs": [
    {
     "data": {
      "text/html": [
       "<div>\n",
       "<style scoped>\n",
       "    .dataframe tbody tr th:only-of-type {\n",
       "        vertical-align: middle;\n",
       "    }\n",
       "\n",
       "    .dataframe tbody tr th {\n",
       "        vertical-align: top;\n",
       "    }\n",
       "\n",
       "    .dataframe thead th {\n",
       "        text-align: right;\n",
       "    }\n",
       "</style>\n",
       "<table border=\"1\" class=\"dataframe\">\n",
       "  <thead>\n",
       "    <tr style=\"text-align: right;\">\n",
       "      <th></th>\n",
       "      <th>deciles</th>\n",
       "      <th>y_actual</th>\n",
       "      <th>y_predicted</th>\n",
       "    </tr>\n",
       "  </thead>\n",
       "  <tbody>\n",
       "    <tr>\n",
       "      <th>9</th>\n",
       "      <td>10</td>\n",
       "      <td>147.586864</td>\n",
       "      <td>222.051530</td>\n",
       "    </tr>\n",
       "    <tr>\n",
       "      <th>8</th>\n",
       "      <td>9</td>\n",
       "      <td>105.868400</td>\n",
       "      <td>79.137775</td>\n",
       "    </tr>\n",
       "    <tr>\n",
       "      <th>7</th>\n",
       "      <td>8</td>\n",
       "      <td>50.123000</td>\n",
       "      <td>47.228760</td>\n",
       "    </tr>\n",
       "    <tr>\n",
       "      <th>6</th>\n",
       "      <td>7</td>\n",
       "      <td>88.831000</td>\n",
       "      <td>39.521022</td>\n",
       "    </tr>\n",
       "    <tr>\n",
       "      <th>5</th>\n",
       "      <td>6</td>\n",
       "      <td>41.338000</td>\n",
       "      <td>32.441191</td>\n",
       "    </tr>\n",
       "    <tr>\n",
       "      <th>4</th>\n",
       "      <td>5</td>\n",
       "      <td>50.545600</td>\n",
       "      <td>24.375896</td>\n",
       "    </tr>\n",
       "    <tr>\n",
       "      <th>3</th>\n",
       "      <td>4</td>\n",
       "      <td>35.979500</td>\n",
       "      <td>20.512358</td>\n",
       "    </tr>\n",
       "    <tr>\n",
       "      <th>2</th>\n",
       "      <td>3</td>\n",
       "      <td>21.094600</td>\n",
       "      <td>16.562657</td>\n",
       "    </tr>\n",
       "    <tr>\n",
       "      <th>1</th>\n",
       "      <td>2</td>\n",
       "      <td>13.290400</td>\n",
       "      <td>10.351303</td>\n",
       "    </tr>\n",
       "    <tr>\n",
       "      <th>0</th>\n",
       "      <td>1</td>\n",
       "      <td>7.932000</td>\n",
       "      <td>4.639485</td>\n",
       "    </tr>\n",
       "  </tbody>\n",
       "</table>\n",
       "</div>"
      ],
      "text/plain": [
       "  deciles    y_actual  y_predicted\n",
       "9      10  147.586864   222.051530\n",
       "8       9  105.868400    79.137775\n",
       "7       8   50.123000    47.228760\n",
       "6       7   88.831000    39.521022\n",
       "5       6   41.338000    32.441191\n",
       "4       5   50.545600    24.375896\n",
       "3       4   35.979500    20.512358\n",
       "2       3   21.094600    16.562657\n",
       "1       2   13.290400    10.351303\n",
       "0       1    7.932000     4.639485"
      ]
     },
     "execution_count": 95,
     "metadata": {},
     "output_type": "execute_result"
    }
   ],
   "source": [
    "decile_test"
   ]
  },
  {
   "cell_type": "code",
   "execution_count": null,
   "id": "78d2bd89-97c7-4ae6-9ccc-42ad08a0ebc5",
   "metadata": {},
   "outputs": [],
   "source": []
  },
  {
   "cell_type": "code",
   "execution_count": null,
   "id": "9124789f-81ea-49e3-aa7b-2164b11d1257",
   "metadata": {},
   "outputs": [],
   "source": []
  },
  {
   "cell_type": "code",
   "execution_count": null,
   "id": "a4795c2f-cb8c-4c31-9a6b-680d79b6365e",
   "metadata": {},
   "outputs": [],
   "source": []
  },
  {
   "cell_type": "code",
   "execution_count": null,
   "id": "ce54da62-c466-43a0-9ba3-909da435fa6d",
   "metadata": {},
   "outputs": [],
   "source": []
  },
  {
   "cell_type": "code",
   "execution_count": null,
   "id": "617ffce8-a2bd-4fdb-a4bb-238de20ce34a",
   "metadata": {},
   "outputs": [],
   "source": []
  },
  {
   "cell_type": "code",
   "execution_count": null,
   "id": "a3f9c186-a8a6-49eb-9ff4-0a31d5fc4fcf",
   "metadata": {},
   "outputs": [],
   "source": []
  },
  {
   "cell_type": "code",
   "execution_count": null,
   "id": "d3c314a8-271d-4d74-a00d-9bcf7d3e2151",
   "metadata": {},
   "outputs": [],
   "source": []
  },
  {
   "cell_type": "code",
   "execution_count": null,
   "id": "2ecd6c47-cdef-4f6a-88f6-e9aade34490e",
   "metadata": {},
   "outputs": [],
   "source": []
  },
  {
   "cell_type": "code",
   "execution_count": null,
   "id": "bd0c0210-ba9c-455a-8d98-56cf96584162",
   "metadata": {},
   "outputs": [],
   "source": []
  },
  {
   "cell_type": "code",
   "execution_count": null,
   "id": "5d04f856-8510-4818-8928-086e57cee23e",
   "metadata": {},
   "outputs": [],
   "source": []
  }
 ],
 "metadata": {
  "kernelspec": {
   "display_name": "Python 3 (ipykernel)",
   "language": "python",
   "name": "python3"
  },
  "language_info": {
   "codemirror_mode": {
    "name": "ipython",
    "version": 3
   },
   "file_extension": ".py",
   "mimetype": "text/x-python",
   "name": "python",
   "nbconvert_exporter": "python",
   "pygments_lexer": "ipython3",
   "version": "3.12.4"
  }
 },
 "nbformat": 4,
 "nbformat_minor": 5
}
